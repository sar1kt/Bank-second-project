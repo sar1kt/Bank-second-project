{
 "cells": [
  {
   "cell_type": "markdown",
   "id": "386f2ae7",
   "metadata": {
    "deletable": false,
    "editable": false,
    "id": "386f2ae7"
   },
   "source": [
    "# Исследование надежности заемщиков\n"
   ]
  },
  {
   "cell_type": "markdown",
   "id": "3193c7fb",
   "metadata": {},
   "source": [
    "**Этот проект:** создан с целью определить какие клиенты банка более надежны как заемщики с разных перспектив. Таких как кол-во детей клиента, доход а также семейное положение\n",
    "\n",
    "**Документация к данным:**\n",
    "\n",
    "children — количество детей в семье\n",
    "\n",
    "days_employed — общий трудовой стаж в днях\n",
    "\n",
    "dob_years — возраст клиента в годах\n",
    "\n",
    "education — уровень образования клиента\n",
    "\n",
    "education_id — идентификатор уровня образования\n",
    "\n",
    "family_status — семейное положение\n",
    "\n",
    "family_status_id — идентификатор семейного положения\n",
    "\n",
    "gender — пол клиента\n",
    "\n",
    "income_type — тип занятости\n",
    "\n",
    "debt — имел ли задолженность по возврату кредитов\n",
    "\n",
    "total_income — ежемесячный доход\n",
    "\n",
    "purpose — цель получения кредита\n",
    "\n",
    "**План работы:**\n",
    "\n",
    "для начала мы рассмотрим в целом данные и попробуем поверхностно понять где есть дубликаты и пропуски а также проверим более скрытые дубликаты. После чего мы разделим на категории несколько столбцов для того чтобы было легче проводить математические поерации и в целом читать данные. И последний этап, мы проведем гипотезы как регаирует кол-во детей клиента, доход а также семейное положение на возрат кредита во время"
   ]
  },
  {
   "cell_type": "markdown",
   "id": "ffe86f65",
   "metadata": {
    "deletable": false,
    "editable": false,
    "id": "ffe86f65"
   },
   "source": [
    "Во второй части проекта вы выполните шаги 3 и 4. Их вручную проверит ревьюер.\n",
    "Чтобы вам не пришлось писать код заново для шагов 1 и 2, мы добавили авторские решения в ячейки с кодом. \n",
    "\n"
   ]
  },
  {
   "cell_type": "markdown",
   "id": "26613308",
   "metadata": {
    "deletable": false,
    "editable": false,
    "id": "26613308"
   },
   "source": [
    "## Откройте таблицу и изучите общую информацию о данных"
   ]
  },
  {
   "cell_type": "markdown",
   "id": "3c9f838e",
   "metadata": {
    "deletable": false,
    "editable": false,
    "id": "3c9f838e"
   },
   "source": [
    "**Задание 1. Импортируйте библиотеку pandas. Считайте данные из csv-файла в датафрейм и сохраните в переменную `data`. Путь к файлу:**\n",
    "\n",
    "`/datasets/data.csv`"
   ]
  },
  {
   "cell_type": "code",
   "execution_count": 1,
   "id": "77a68a90",
   "metadata": {
    "deletable": false,
    "id": "77a68a90"
   },
   "outputs": [],
   "source": [
    "import pandas as pd\n",
    "\n",
    "try:\n",
    "    data = pd.read_csv('/Users/sardortajiev/Desktop/projects/Bank_data.csv')\n",
    "except:\n",
    "    data = pd.read_csv('https://code.s3.yandex.net/datasets/data.csv')"
   ]
  },
  {
   "cell_type": "markdown",
   "id": "45365635",
   "metadata": {
    "deletable": false,
    "editable": false,
    "id": "45365635"
   },
   "source": [
    "**Задание 2. Выведите первые 20 строчек датафрейма `data` на экран.**"
   ]
  },
  {
   "cell_type": "code",
   "execution_count": 2,
   "id": "b0451a9a",
   "metadata": {
    "deletable": false,
    "id": "b0451a9a",
    "outputId": "1a8f3ef2-d323-4ec2-ddf7-89670b5944c4"
   },
   "outputs": [
    {
     "data": {
      "text/html": [
       "<div>\n",
       "<style scoped>\n",
       "    .dataframe tbody tr th:only-of-type {\n",
       "        vertical-align: middle;\n",
       "    }\n",
       "\n",
       "    .dataframe tbody tr th {\n",
       "        vertical-align: top;\n",
       "    }\n",
       "\n",
       "    .dataframe thead th {\n",
       "        text-align: right;\n",
       "    }\n",
       "</style>\n",
       "<table border=\"1\" class=\"dataframe\">\n",
       "  <thead>\n",
       "    <tr style=\"text-align: right;\">\n",
       "      <th></th>\n",
       "      <th>children</th>\n",
       "      <th>days_employed</th>\n",
       "      <th>dob_years</th>\n",
       "      <th>education</th>\n",
       "      <th>education_id</th>\n",
       "      <th>family_status</th>\n",
       "      <th>family_status_id</th>\n",
       "      <th>gender</th>\n",
       "      <th>income_type</th>\n",
       "      <th>debt</th>\n",
       "      <th>total_income</th>\n",
       "      <th>purpose</th>\n",
       "    </tr>\n",
       "  </thead>\n",
       "  <tbody>\n",
       "    <tr>\n",
       "      <th>0</th>\n",
       "      <td>1</td>\n",
       "      <td>-8437.673028</td>\n",
       "      <td>42</td>\n",
       "      <td>высшее</td>\n",
       "      <td>0</td>\n",
       "      <td>женат / замужем</td>\n",
       "      <td>0</td>\n",
       "      <td>F</td>\n",
       "      <td>сотрудник</td>\n",
       "      <td>0</td>\n",
       "      <td>253875.639453</td>\n",
       "      <td>покупка жилья</td>\n",
       "    </tr>\n",
       "    <tr>\n",
       "      <th>1</th>\n",
       "      <td>1</td>\n",
       "      <td>-4024.803754</td>\n",
       "      <td>36</td>\n",
       "      <td>среднее</td>\n",
       "      <td>1</td>\n",
       "      <td>женат / замужем</td>\n",
       "      <td>0</td>\n",
       "      <td>F</td>\n",
       "      <td>сотрудник</td>\n",
       "      <td>0</td>\n",
       "      <td>112080.014102</td>\n",
       "      <td>приобретение автомобиля</td>\n",
       "    </tr>\n",
       "    <tr>\n",
       "      <th>2</th>\n",
       "      <td>0</td>\n",
       "      <td>-5623.422610</td>\n",
       "      <td>33</td>\n",
       "      <td>Среднее</td>\n",
       "      <td>1</td>\n",
       "      <td>женат / замужем</td>\n",
       "      <td>0</td>\n",
       "      <td>M</td>\n",
       "      <td>сотрудник</td>\n",
       "      <td>0</td>\n",
       "      <td>145885.952297</td>\n",
       "      <td>покупка жилья</td>\n",
       "    </tr>\n",
       "    <tr>\n",
       "      <th>3</th>\n",
       "      <td>3</td>\n",
       "      <td>-4124.747207</td>\n",
       "      <td>32</td>\n",
       "      <td>среднее</td>\n",
       "      <td>1</td>\n",
       "      <td>женат / замужем</td>\n",
       "      <td>0</td>\n",
       "      <td>M</td>\n",
       "      <td>сотрудник</td>\n",
       "      <td>0</td>\n",
       "      <td>267628.550329</td>\n",
       "      <td>дополнительное образование</td>\n",
       "    </tr>\n",
       "    <tr>\n",
       "      <th>4</th>\n",
       "      <td>0</td>\n",
       "      <td>340266.072047</td>\n",
       "      <td>53</td>\n",
       "      <td>среднее</td>\n",
       "      <td>1</td>\n",
       "      <td>гражданский брак</td>\n",
       "      <td>1</td>\n",
       "      <td>F</td>\n",
       "      <td>пенсионер</td>\n",
       "      <td>0</td>\n",
       "      <td>158616.077870</td>\n",
       "      <td>сыграть свадьбу</td>\n",
       "    </tr>\n",
       "    <tr>\n",
       "      <th>5</th>\n",
       "      <td>0</td>\n",
       "      <td>-926.185831</td>\n",
       "      <td>27</td>\n",
       "      <td>высшее</td>\n",
       "      <td>0</td>\n",
       "      <td>гражданский брак</td>\n",
       "      <td>1</td>\n",
       "      <td>M</td>\n",
       "      <td>компаньон</td>\n",
       "      <td>0</td>\n",
       "      <td>255763.565419</td>\n",
       "      <td>покупка жилья</td>\n",
       "    </tr>\n",
       "    <tr>\n",
       "      <th>6</th>\n",
       "      <td>0</td>\n",
       "      <td>-2879.202052</td>\n",
       "      <td>43</td>\n",
       "      <td>высшее</td>\n",
       "      <td>0</td>\n",
       "      <td>женат / замужем</td>\n",
       "      <td>0</td>\n",
       "      <td>F</td>\n",
       "      <td>компаньон</td>\n",
       "      <td>0</td>\n",
       "      <td>240525.971920</td>\n",
       "      <td>операции с жильем</td>\n",
       "    </tr>\n",
       "    <tr>\n",
       "      <th>7</th>\n",
       "      <td>0</td>\n",
       "      <td>-152.779569</td>\n",
       "      <td>50</td>\n",
       "      <td>СРЕДНЕЕ</td>\n",
       "      <td>1</td>\n",
       "      <td>женат / замужем</td>\n",
       "      <td>0</td>\n",
       "      <td>M</td>\n",
       "      <td>сотрудник</td>\n",
       "      <td>0</td>\n",
       "      <td>135823.934197</td>\n",
       "      <td>образование</td>\n",
       "    </tr>\n",
       "    <tr>\n",
       "      <th>8</th>\n",
       "      <td>2</td>\n",
       "      <td>-6929.865299</td>\n",
       "      <td>35</td>\n",
       "      <td>ВЫСШЕЕ</td>\n",
       "      <td>0</td>\n",
       "      <td>гражданский брак</td>\n",
       "      <td>1</td>\n",
       "      <td>F</td>\n",
       "      <td>сотрудник</td>\n",
       "      <td>0</td>\n",
       "      <td>95856.832424</td>\n",
       "      <td>на проведение свадьбы</td>\n",
       "    </tr>\n",
       "    <tr>\n",
       "      <th>9</th>\n",
       "      <td>0</td>\n",
       "      <td>-2188.756445</td>\n",
       "      <td>41</td>\n",
       "      <td>среднее</td>\n",
       "      <td>1</td>\n",
       "      <td>женат / замужем</td>\n",
       "      <td>0</td>\n",
       "      <td>M</td>\n",
       "      <td>сотрудник</td>\n",
       "      <td>0</td>\n",
       "      <td>144425.938277</td>\n",
       "      <td>покупка жилья для семьи</td>\n",
       "    </tr>\n",
       "    <tr>\n",
       "      <th>10</th>\n",
       "      <td>2</td>\n",
       "      <td>-4171.483647</td>\n",
       "      <td>36</td>\n",
       "      <td>высшее</td>\n",
       "      <td>0</td>\n",
       "      <td>женат / замужем</td>\n",
       "      <td>0</td>\n",
       "      <td>M</td>\n",
       "      <td>компаньон</td>\n",
       "      <td>0</td>\n",
       "      <td>113943.491460</td>\n",
       "      <td>покупка недвижимости</td>\n",
       "    </tr>\n",
       "    <tr>\n",
       "      <th>11</th>\n",
       "      <td>0</td>\n",
       "      <td>-792.701887</td>\n",
       "      <td>40</td>\n",
       "      <td>среднее</td>\n",
       "      <td>1</td>\n",
       "      <td>женат / замужем</td>\n",
       "      <td>0</td>\n",
       "      <td>F</td>\n",
       "      <td>сотрудник</td>\n",
       "      <td>0</td>\n",
       "      <td>77069.234271</td>\n",
       "      <td>покупка коммерческой недвижимости</td>\n",
       "    </tr>\n",
       "    <tr>\n",
       "      <th>12</th>\n",
       "      <td>0</td>\n",
       "      <td>NaN</td>\n",
       "      <td>65</td>\n",
       "      <td>среднее</td>\n",
       "      <td>1</td>\n",
       "      <td>гражданский брак</td>\n",
       "      <td>1</td>\n",
       "      <td>M</td>\n",
       "      <td>пенсионер</td>\n",
       "      <td>0</td>\n",
       "      <td>NaN</td>\n",
       "      <td>сыграть свадьбу</td>\n",
       "    </tr>\n",
       "    <tr>\n",
       "      <th>13</th>\n",
       "      <td>0</td>\n",
       "      <td>-1846.641941</td>\n",
       "      <td>54</td>\n",
       "      <td>неоконченное высшее</td>\n",
       "      <td>2</td>\n",
       "      <td>женат / замужем</td>\n",
       "      <td>0</td>\n",
       "      <td>F</td>\n",
       "      <td>сотрудник</td>\n",
       "      <td>0</td>\n",
       "      <td>130458.228857</td>\n",
       "      <td>приобретение автомобиля</td>\n",
       "    </tr>\n",
       "    <tr>\n",
       "      <th>14</th>\n",
       "      <td>0</td>\n",
       "      <td>-1844.956182</td>\n",
       "      <td>56</td>\n",
       "      <td>высшее</td>\n",
       "      <td>0</td>\n",
       "      <td>гражданский брак</td>\n",
       "      <td>1</td>\n",
       "      <td>F</td>\n",
       "      <td>компаньон</td>\n",
       "      <td>1</td>\n",
       "      <td>165127.911772</td>\n",
       "      <td>покупка жилой недвижимости</td>\n",
       "    </tr>\n",
       "    <tr>\n",
       "      <th>15</th>\n",
       "      <td>1</td>\n",
       "      <td>-972.364419</td>\n",
       "      <td>26</td>\n",
       "      <td>среднее</td>\n",
       "      <td>1</td>\n",
       "      <td>женат / замужем</td>\n",
       "      <td>0</td>\n",
       "      <td>F</td>\n",
       "      <td>сотрудник</td>\n",
       "      <td>0</td>\n",
       "      <td>116820.904450</td>\n",
       "      <td>строительство собственной недвижимости</td>\n",
       "    </tr>\n",
       "    <tr>\n",
       "      <th>16</th>\n",
       "      <td>0</td>\n",
       "      <td>-1719.934226</td>\n",
       "      <td>35</td>\n",
       "      <td>среднее</td>\n",
       "      <td>1</td>\n",
       "      <td>женат / замужем</td>\n",
       "      <td>0</td>\n",
       "      <td>F</td>\n",
       "      <td>сотрудник</td>\n",
       "      <td>0</td>\n",
       "      <td>289202.704229</td>\n",
       "      <td>недвижимость</td>\n",
       "    </tr>\n",
       "    <tr>\n",
       "      <th>17</th>\n",
       "      <td>0</td>\n",
       "      <td>-2369.999720</td>\n",
       "      <td>33</td>\n",
       "      <td>высшее</td>\n",
       "      <td>0</td>\n",
       "      <td>гражданский брак</td>\n",
       "      <td>1</td>\n",
       "      <td>M</td>\n",
       "      <td>сотрудник</td>\n",
       "      <td>0</td>\n",
       "      <td>90410.586745</td>\n",
       "      <td>строительство недвижимости</td>\n",
       "    </tr>\n",
       "    <tr>\n",
       "      <th>18</th>\n",
       "      <td>0</td>\n",
       "      <td>400281.136913</td>\n",
       "      <td>53</td>\n",
       "      <td>среднее</td>\n",
       "      <td>1</td>\n",
       "      <td>вдовец / вдова</td>\n",
       "      <td>2</td>\n",
       "      <td>F</td>\n",
       "      <td>пенсионер</td>\n",
       "      <td>0</td>\n",
       "      <td>56823.777243</td>\n",
       "      <td>на покупку подержанного автомобиля</td>\n",
       "    </tr>\n",
       "    <tr>\n",
       "      <th>19</th>\n",
       "      <td>0</td>\n",
       "      <td>-10038.818549</td>\n",
       "      <td>48</td>\n",
       "      <td>СРЕДНЕЕ</td>\n",
       "      <td>1</td>\n",
       "      <td>в разводе</td>\n",
       "      <td>3</td>\n",
       "      <td>F</td>\n",
       "      <td>сотрудник</td>\n",
       "      <td>0</td>\n",
       "      <td>242831.107982</td>\n",
       "      <td>на покупку своего автомобиля</td>\n",
       "    </tr>\n",
       "  </tbody>\n",
       "</table>\n",
       "</div>"
      ],
      "text/plain": [
       "    children  days_employed  dob_years            education  education_id  \\\n",
       "0          1   -8437.673028         42               высшее             0   \n",
       "1          1   -4024.803754         36              среднее             1   \n",
       "2          0   -5623.422610         33              Среднее             1   \n",
       "3          3   -4124.747207         32              среднее             1   \n",
       "4          0  340266.072047         53              среднее             1   \n",
       "5          0    -926.185831         27               высшее             0   \n",
       "6          0   -2879.202052         43               высшее             0   \n",
       "7          0    -152.779569         50              СРЕДНЕЕ             1   \n",
       "8          2   -6929.865299         35               ВЫСШЕЕ             0   \n",
       "9          0   -2188.756445         41              среднее             1   \n",
       "10         2   -4171.483647         36               высшее             0   \n",
       "11         0    -792.701887         40              среднее             1   \n",
       "12         0            NaN         65              среднее             1   \n",
       "13         0   -1846.641941         54  неоконченное высшее             2   \n",
       "14         0   -1844.956182         56               высшее             0   \n",
       "15         1    -972.364419         26              среднее             1   \n",
       "16         0   -1719.934226         35              среднее             1   \n",
       "17         0   -2369.999720         33               высшее             0   \n",
       "18         0  400281.136913         53              среднее             1   \n",
       "19         0  -10038.818549         48              СРЕДНЕЕ             1   \n",
       "\n",
       "       family_status  family_status_id gender income_type  debt  \\\n",
       "0    женат / замужем                 0      F   сотрудник     0   \n",
       "1    женат / замужем                 0      F   сотрудник     0   \n",
       "2    женат / замужем                 0      M   сотрудник     0   \n",
       "3    женат / замужем                 0      M   сотрудник     0   \n",
       "4   гражданский брак                 1      F   пенсионер     0   \n",
       "5   гражданский брак                 1      M   компаньон     0   \n",
       "6    женат / замужем                 0      F   компаньон     0   \n",
       "7    женат / замужем                 0      M   сотрудник     0   \n",
       "8   гражданский брак                 1      F   сотрудник     0   \n",
       "9    женат / замужем                 0      M   сотрудник     0   \n",
       "10   женат / замужем                 0      M   компаньон     0   \n",
       "11   женат / замужем                 0      F   сотрудник     0   \n",
       "12  гражданский брак                 1      M   пенсионер     0   \n",
       "13   женат / замужем                 0      F   сотрудник     0   \n",
       "14  гражданский брак                 1      F   компаньон     1   \n",
       "15   женат / замужем                 0      F   сотрудник     0   \n",
       "16   женат / замужем                 0      F   сотрудник     0   \n",
       "17  гражданский брак                 1      M   сотрудник     0   \n",
       "18    вдовец / вдова                 2      F   пенсионер     0   \n",
       "19         в разводе                 3      F   сотрудник     0   \n",
       "\n",
       "     total_income                                 purpose  \n",
       "0   253875.639453                           покупка жилья  \n",
       "1   112080.014102                 приобретение автомобиля  \n",
       "2   145885.952297                           покупка жилья  \n",
       "3   267628.550329              дополнительное образование  \n",
       "4   158616.077870                         сыграть свадьбу  \n",
       "5   255763.565419                           покупка жилья  \n",
       "6   240525.971920                       операции с жильем  \n",
       "7   135823.934197                             образование  \n",
       "8    95856.832424                   на проведение свадьбы  \n",
       "9   144425.938277                 покупка жилья для семьи  \n",
       "10  113943.491460                    покупка недвижимости  \n",
       "11   77069.234271       покупка коммерческой недвижимости  \n",
       "12            NaN                         сыграть свадьбу  \n",
       "13  130458.228857                 приобретение автомобиля  \n",
       "14  165127.911772              покупка жилой недвижимости  \n",
       "15  116820.904450  строительство собственной недвижимости  \n",
       "16  289202.704229                            недвижимость  \n",
       "17   90410.586745              строительство недвижимости  \n",
       "18   56823.777243      на покупку подержанного автомобиля  \n",
       "19  242831.107982            на покупку своего автомобиля  "
      ]
     },
     "execution_count": 2,
     "metadata": {},
     "output_type": "execute_result"
    }
   ],
   "source": [
    "data.head(20)"
   ]
  },
  {
   "cell_type": "markdown",
   "id": "0ed8f27f",
   "metadata": {
    "deletable": false,
    "editable": false,
    "id": "0ed8f27f"
   },
   "source": [
    "**Задание 3. Выведите основную информацию о датафрейме с помощью метода `info()`.**"
   ]
  },
  {
   "cell_type": "code",
   "execution_count": 3,
   "id": "ab3f863b",
   "metadata": {
    "deletable": false,
    "id": "ab3f863b",
    "outputId": "15376089-8dad-46c9-b520-c05248d43158"
   },
   "outputs": [
    {
     "name": "stdout",
     "output_type": "stream",
     "text": [
      "<class 'pandas.core.frame.DataFrame'>\n",
      "RangeIndex: 21525 entries, 0 to 21524\n",
      "Data columns (total 12 columns):\n",
      " #   Column            Non-Null Count  Dtype  \n",
      "---  ------            --------------  -----  \n",
      " 0   children          21525 non-null  int64  \n",
      " 1   days_employed     19351 non-null  float64\n",
      " 2   dob_years         21525 non-null  int64  \n",
      " 3   education         21525 non-null  object \n",
      " 4   education_id      21525 non-null  int64  \n",
      " 5   family_status     21525 non-null  object \n",
      " 6   family_status_id  21525 non-null  int64  \n",
      " 7   gender            21525 non-null  object \n",
      " 8   income_type       21525 non-null  object \n",
      " 9   debt              21525 non-null  int64  \n",
      " 10  total_income      19351 non-null  float64\n",
      " 11  purpose           21525 non-null  object \n",
      "dtypes: float64(2), int64(5), object(5)\n",
      "memory usage: 2.0+ MB\n"
     ]
    }
   ],
   "source": [
    "data.info()"
   ]
  },
  {
   "cell_type": "markdown",
   "id": "60e3e22d",
   "metadata": {
    "deletable": false,
    "editable": false,
    "id": "60e3e22d"
   },
   "source": [
    "## Предобработка данных"
   ]
  },
  {
   "cell_type": "markdown",
   "id": "03dc170c",
   "metadata": {
    "deletable": false,
    "editable": false,
    "id": "03dc170c"
   },
   "source": [
    "### Удаление пропусков"
   ]
  },
  {
   "cell_type": "markdown",
   "id": "a4f54eef",
   "metadata": {
    "deletable": false,
    "editable": false,
    "id": "a4f54eef"
   },
   "source": [
    "**Задание 4. Выведите количество пропущенных значений для каждого столбца. Используйте комбинацию двух методов.**"
   ]
  },
  {
   "cell_type": "code",
   "execution_count": 4,
   "id": "2dc372b2",
   "metadata": {
    "deletable": false,
    "id": "2dc372b2",
    "outputId": "81f4d817-781c-465c-ed15-91ce4446810d"
   },
   "outputs": [
    {
     "data": {
      "text/plain": [
       "children               0\n",
       "days_employed       2174\n",
       "dob_years              0\n",
       "education              0\n",
       "education_id           0\n",
       "family_status          0\n",
       "family_status_id       0\n",
       "gender                 0\n",
       "income_type            0\n",
       "debt                   0\n",
       "total_income        2174\n",
       "purpose                0\n",
       "dtype: int64"
      ]
     },
     "execution_count": 4,
     "metadata": {},
     "output_type": "execute_result"
    }
   ],
   "source": [
    "data.isna().sum()"
   ]
  },
  {
   "cell_type": "markdown",
   "id": "14f011b1",
   "metadata": {
    "deletable": false,
    "editable": false,
    "id": "14f011b1"
   },
   "source": [
    "**Задание 5. В двух столбцах есть пропущенные значения. Один из них — `days_employed`. Пропуски в этом столбце вы обработаете на следующем этапе. Другой столбец с пропущенными значениями — `total_income` — хранит данные о доходах. На сумму дохода сильнее всего влияет тип занятости, поэтому заполнить пропуски в этом столбце нужно медианным значением по каждому типу из столбца `income_type`. Например, у человека с типом занятости `сотрудник` пропуск в столбце `total_income` должен быть заполнен медианным доходом среди всех записей с тем же типом.**"
   ]
  },
  {
   "cell_type": "code",
   "execution_count": 5,
   "id": "bdabfb6e",
   "metadata": {
    "deletable": false,
    "id": "bdabfb6e"
   },
   "outputs": [],
   "source": [
    "for t in data['income_type'].unique():\n",
    "    data.loc[(data['income_type'] == t) & (data['total_income'].isna()), 'total_income'] = \\\n",
    "    data.loc[(data['income_type'] == t), 'total_income'].median()"
   ]
  },
  {
   "cell_type": "markdown",
   "id": "5be34059",
   "metadata": {
    "deletable": false,
    "editable": false,
    "id": "5be34059"
   },
   "source": [
    "### Обработка аномальных значений"
   ]
  },
  {
   "cell_type": "markdown",
   "id": "a87606cb",
   "metadata": {
    "deletable": false,
    "editable": false,
    "id": "a87606cb"
   },
   "source": [
    "**Задание 6. В данных могут встречаться артефакты (аномалии) — значения, которые не отражают действительность и появились по какой-то ошибке. таким артефактом будет отрицательное количество дней трудового стажа в столбце `days_employed`. Для реальных данных это нормально. Обработайте значения в этом столбце: замените все отрицательные значения положительными с помощью метода `abs()`.**"
   ]
  },
  {
   "cell_type": "code",
   "execution_count": 6,
   "id": "020c46cc",
   "metadata": {
    "deletable": false,
    "id": "020c46cc"
   },
   "outputs": [],
   "source": [
    "data['days_employed'] = data['days_employed'].abs()"
   ]
  },
  {
   "cell_type": "markdown",
   "id": "45538a3a",
   "metadata": {
    "deletable": false,
    "editable": false,
    "id": "45538a3a"
   },
   "source": [
    "**Задание 7. Для каждого типа занятости выведите медианное значение трудового стажа `days_employed` в днях.**"
   ]
  },
  {
   "cell_type": "code",
   "execution_count": 7,
   "id": "cd3e6328",
   "metadata": {
    "deletable": false,
    "id": "cd3e6328",
    "outputId": "801ef80e-522b-4668-f34e-565af7432bcf"
   },
   "outputs": [
    {
     "data": {
      "text/plain": [
       "income_type\n",
       "безработный        366413.652744\n",
       "в декрете            3296.759962\n",
       "госслужащий          2689.368353\n",
       "компаньон            1547.382223\n",
       "пенсионер          365213.306266\n",
       "предприниматель       520.848083\n",
       "сотрудник            1574.202821\n",
       "студент               578.751554\n",
       "Name: days_employed, dtype: float64"
      ]
     },
     "execution_count": 7,
     "metadata": {},
     "output_type": "execute_result"
    }
   ],
   "source": [
    "data.groupby('income_type')['days_employed'].agg('median')"
   ]
  },
  {
   "cell_type": "markdown",
   "id": "90c5f058",
   "metadata": {
    "deletable": false,
    "editable": false,
    "id": "90c5f058"
   },
   "source": [
    "У двух типов (безработные и пенсионеры) получатся аномально большие значения. Исправить такие значения сложно, поэтому оставьте их как есть."
   ]
  },
  {
   "cell_type": "markdown",
   "id": "9652e50d",
   "metadata": {
    "deletable": false,
    "editable": false,
    "id": "9652e50d"
   },
   "source": [
    "**Задание 8. Выведите перечень уникальных значений столбца `children`.**"
   ]
  },
  {
   "cell_type": "code",
   "execution_count": 8,
   "id": "dbb37b8e",
   "metadata": {
    "deletable": false,
    "id": "dbb37b8e",
    "outputId": "6975b15c-7f95-4697-d16d-a0c79b657b03"
   },
   "outputs": [
    {
     "data": {
      "text/plain": [
       "array([ 1,  0,  3,  2, -1,  4, 20,  5])"
      ]
     },
     "execution_count": 8,
     "metadata": {},
     "output_type": "execute_result"
    }
   ],
   "source": [
    "data['children'].unique()"
   ]
  },
  {
   "cell_type": "markdown",
   "id": "2b8b0715",
   "metadata": {
    "deletable": false,
    "editable": false,
    "id": "2b8b0715"
   },
   "source": [
    "**Задание 9. В столбце `children` есть два аномальных значения. Удалите строки, в которых встречаются такие аномальные значения из датафрейма `data`.**"
   ]
  },
  {
   "cell_type": "code",
   "execution_count": 9,
   "id": "20009df8",
   "metadata": {
    "deletable": false,
    "id": "20009df8"
   },
   "outputs": [],
   "source": [
    "data = data[(data['children'] != -1) & (data['children'] != 20)]"
   ]
  },
  {
   "cell_type": "markdown",
   "id": "8c6ac9f1",
   "metadata": {
    "deletable": false,
    "editable": false,
    "id": "8c6ac9f1"
   },
   "source": [
    "**Задание 10. Ещё раз выведите перечень уникальных значений столбца `children`, чтобы убедиться, что артефакты удалены.**"
   ]
  },
  {
   "cell_type": "code",
   "execution_count": 10,
   "id": "07337b81",
   "metadata": {
    "deletable": false,
    "id": "07337b81",
    "outputId": "b2097101-d49d-44d9-901b-32a65c9463d1"
   },
   "outputs": [
    {
     "data": {
      "text/plain": [
       "array([1, 0, 3, 2, 4, 5])"
      ]
     },
     "execution_count": 10,
     "metadata": {},
     "output_type": "execute_result"
    }
   ],
   "source": [
    "data['children'].unique()"
   ]
  },
  {
   "cell_type": "markdown",
   "id": "ee3f52d4",
   "metadata": {
    "deletable": false,
    "editable": false,
    "id": "ee3f52d4"
   },
   "source": [
    "### Удаление пропусков (продолжение)"
   ]
  },
  {
   "cell_type": "markdown",
   "id": "a700b0e4",
   "metadata": {
    "deletable": false,
    "editable": false,
    "id": "a700b0e4"
   },
   "source": [
    "**Задание 11. Заполните пропуски в столбце `days_employed` медианными значениями по каждого типа занятости `income_type`.**"
   ]
  },
  {
   "cell_type": "code",
   "execution_count": 11,
   "id": "61946b83",
   "metadata": {
    "deletable": false,
    "id": "61946b83"
   },
   "outputs": [],
   "source": [
    "for t in data['income_type'].unique():\n",
    "    data.loc[(data['income_type'] == t) & (data['days_employed'].isna()), 'days_employed'] = \\\n",
    "    data.loc[(data['income_type'] == t), 'days_employed'].median()"
   ]
  },
  {
   "cell_type": "markdown",
   "id": "550dcd9b",
   "metadata": {
    "deletable": false,
    "editable": false,
    "id": "550dcd9b"
   },
   "source": [
    "**Задание 12. Убедитесь, что все пропуски заполнены. Проверьте себя и ещё раз выведите количество пропущенных значений для каждого столбца с помощью двух методов.**"
   ]
  },
  {
   "cell_type": "code",
   "execution_count": 12,
   "id": "937c7014",
   "metadata": {
    "deletable": false,
    "id": "937c7014",
    "outputId": "8da1e4e1-358e-4e87-98c9-f261bce0a7b2"
   },
   "outputs": [
    {
     "data": {
      "text/plain": [
       "children            0\n",
       "days_employed       0\n",
       "dob_years           0\n",
       "education           0\n",
       "education_id        0\n",
       "family_status       0\n",
       "family_status_id    0\n",
       "gender              0\n",
       "income_type         0\n",
       "debt                0\n",
       "total_income        0\n",
       "purpose             0\n",
       "dtype: int64"
      ]
     },
     "execution_count": 12,
     "metadata": {},
     "output_type": "execute_result"
    }
   ],
   "source": [
    "data.isna().sum()"
   ]
  },
  {
   "cell_type": "markdown",
   "id": "d522e295",
   "metadata": {
    "deletable": false,
    "editable": false,
    "id": "d522e295"
   },
   "source": [
    "### Изменение типов данных"
   ]
  },
  {
   "cell_type": "markdown",
   "id": "c229c581",
   "metadata": {
    "deletable": false,
    "editable": false,
    "id": "c229c581"
   },
   "source": [
    "**Задание 13. Замените вещественный тип данных в столбце `total_income` на целочисленный с помощью метода `astype()`.**"
   ]
  },
  {
   "cell_type": "code",
   "execution_count": 13,
   "id": "31036462",
   "metadata": {
    "deletable": false,
    "id": "31036462"
   },
   "outputs": [],
   "source": [
    "data['total_income'] = data['total_income'].astype(int)"
   ]
  },
  {
   "cell_type": "markdown",
   "id": "b8e3d1d9",
   "metadata": {
    "deletable": false,
    "editable": false,
    "id": "b8e3d1d9"
   },
   "source": [
    "### Обработка дубликатов"
   ]
  },
  {
   "cell_type": "markdown",
   "id": "9be53c49",
   "metadata": {
    "deletable": false,
    "editable": false,
    "id": "9be53c49"
   },
   "source": [
    "**Задание 14. Обработайте неявные дубликаты в столбце `education`. В этом столбце есть одни и те же значения, но записанные по-разному: с использованием заглавных и строчных букв. Приведите их к нижнему регистру.**"
   ]
  },
  {
   "cell_type": "code",
   "execution_count": 14,
   "id": "d89e73e1",
   "metadata": {
    "deletable": false,
    "id": "d89e73e1"
   },
   "outputs": [],
   "source": [
    "data['education'] = data['education'].str.lower()"
   ]
  },
  {
   "cell_type": "markdown",
   "id": "01d4500e",
   "metadata": {
    "deletable": false,
    "editable": false,
    "id": "01d4500e"
   },
   "source": [
    "**Задание 15. Выведите на экран количество строк-дубликатов в данных. Если такие строки присутствуют, удалите их.**"
   ]
  },
  {
   "cell_type": "code",
   "execution_count": 15,
   "id": "e10efb23",
   "metadata": {
    "deletable": false,
    "id": "e10efb23",
    "outputId": "9684deba-1934-42d1-99e1-cda61740f822"
   },
   "outputs": [
    {
     "data": {
      "text/plain": [
       "71"
      ]
     },
     "execution_count": 15,
     "metadata": {},
     "output_type": "execute_result"
    }
   ],
   "source": [
    "data.duplicated().sum()"
   ]
  },
  {
   "cell_type": "code",
   "execution_count": 16,
   "id": "df853f20",
   "metadata": {
    "deletable": false,
    "id": "df853f20"
   },
   "outputs": [],
   "source": [
    "data = data.drop_duplicates()"
   ]
  },
  {
   "cell_type": "markdown",
   "id": "627be38f",
   "metadata": {
    "deletable": false,
    "editable": false,
    "id": "627be38f"
   },
   "source": [
    "### Категоризация данных"
   ]
  },
  {
   "cell_type": "markdown",
   "id": "4684c3e0",
   "metadata": {
    "deletable": false,
    "editable": false,
    "id": "4684c3e0"
   },
   "source": [
    "**Задание 16. На основании диапазонов, указанных ниже, создайте в датафрейме `data` столбец `total_income_category` с категориями:**\n",
    "\n",
    "- 0–30000 — `'E'`;\n",
    "- 30001–50000 — `'D'`;\n",
    "- 50001–200000 — `'C'`;\n",
    "- 200001–1000000 — `'B'`;\n",
    "- 1000001 и выше — `'A'`.\n",
    "\n",
    "\n",
    "**Например, кредитополучателю с доходом 25000 нужно назначить категорию `'E'`, а клиенту, получающему 235000, — `'B'`. Используйте собственную функцию с именем `categorize_income()` и метод `apply()`.**"
   ]
  },
  {
   "cell_type": "code",
   "execution_count": 17,
   "id": "78965238",
   "metadata": {
    "deletable": false,
    "id": "78965238"
   },
   "outputs": [],
   "source": [
    "def categorize_income(income):\n",
    "    try:\n",
    "        if 0 <= income <= 30000:\n",
    "            return 'E'\n",
    "        elif 30001 <= income <= 50000:\n",
    "            return 'D'\n",
    "        elif 50001 <= income <= 200000:\n",
    "            return 'C'\n",
    "        elif 200001 <= income <= 1000000:\n",
    "            return 'B'\n",
    "        elif income >= 1000001:\n",
    "            return 'A'\n",
    "    except:\n",
    "        pass"
   ]
  },
  {
   "cell_type": "code",
   "execution_count": 18,
   "id": "0980ada1",
   "metadata": {
    "deletable": false,
    "id": "0980ada1"
   },
   "outputs": [],
   "source": [
    "data['total_income_category'] = data['total_income'].apply(categorize_income)"
   ]
  },
  {
   "cell_type": "markdown",
   "id": "9917bba0",
   "metadata": {
    "deletable": false,
    "editable": false,
    "id": "9917bba0"
   },
   "source": [
    "**Задание 17. Выведите на экран перечень уникальных целей взятия кредита из столбца `purpose`.**"
   ]
  },
  {
   "cell_type": "code",
   "execution_count": 19,
   "id": "ee07b65e",
   "metadata": {
    "deletable": false,
    "id": "ee07b65e",
    "outputId": "673c12d9-7d7e-4ae0-9812-c622c89dd244"
   },
   "outputs": [
    {
     "data": {
      "text/plain": [
       "array(['покупка жилья', 'приобретение автомобиля',\n",
       "       'дополнительное образование', 'сыграть свадьбу',\n",
       "       'операции с жильем', 'образование', 'на проведение свадьбы',\n",
       "       'покупка жилья для семьи', 'покупка недвижимости',\n",
       "       'покупка коммерческой недвижимости', 'покупка жилой недвижимости',\n",
       "       'строительство собственной недвижимости', 'недвижимость',\n",
       "       'строительство недвижимости', 'на покупку подержанного автомобиля',\n",
       "       'на покупку своего автомобиля',\n",
       "       'операции с коммерческой недвижимостью',\n",
       "       'строительство жилой недвижимости', 'жилье',\n",
       "       'операции со своей недвижимостью', 'автомобили',\n",
       "       'заняться образованием', 'сделка с подержанным автомобилем',\n",
       "       'получение образования', 'автомобиль', 'свадьба',\n",
       "       'получение дополнительного образования', 'покупка своего жилья',\n",
       "       'операции с недвижимостью', 'получение высшего образования',\n",
       "       'свой автомобиль', 'сделка с автомобилем',\n",
       "       'профильное образование', 'высшее образование',\n",
       "       'покупка жилья для сдачи', 'на покупку автомобиля', 'ремонт жилью',\n",
       "       'заняться высшим образованием'], dtype=object)"
      ]
     },
     "execution_count": 19,
     "metadata": {},
     "output_type": "execute_result"
    }
   ],
   "source": [
    "data['purpose'].unique()"
   ]
  },
  {
   "cell_type": "markdown",
   "id": "52b79d56",
   "metadata": {
    "deletable": false,
    "editable": false,
    "id": "52b79d56"
   },
   "source": [
    "**Задание 18. Создайте функцию, которая на основании данных из столбца `purpose` сформирует новый столбец `purpose_category`, в который войдут следующие категории:**\n",
    "\n",
    "- `'операции с автомобилем'`,\n",
    "- `'операции с недвижимостью'`,\n",
    "- `'проведение свадьбы'`,\n",
    "- `'получение образования'`.\n",
    "\n",
    "**Например, если в столбце `purpose` находится подстрока `'на покупку автомобиля'`, то в столбце `purpose_category` должна появиться строка `'операции с автомобилем'`.**\n",
    "\n",
    "**Используйте собственную функцию с именем `categorize_purpose()` и метод `apply()`. Изучите данные в столбце `purpose` и определите, какие подстроки помогут вам правильно определить категорию.**"
   ]
  },
  {
   "cell_type": "code",
   "execution_count": 20,
   "id": "be41da5d",
   "metadata": {
    "deletable": false,
    "id": "be41da5d"
   },
   "outputs": [],
   "source": [
    "def categorize_purpose(row):\n",
    "    try:\n",
    "        if 'автом' in row:\n",
    "            return 'операции с автомобилем'\n",
    "        elif 'жил' in row or 'недвиж' in row:\n",
    "            return 'операции с недвижимостью'\n",
    "        elif 'свад' in row:\n",
    "            return 'проведение свадьбы'\n",
    "        elif 'образов' in row:\n",
    "            return 'получение образования'\n",
    "    except:\n",
    "        return 'нет категории'"
   ]
  },
  {
   "cell_type": "code",
   "execution_count": 21,
   "id": "94c4a19a",
   "metadata": {
    "deletable": false,
    "id": "94c4a19a"
   },
   "outputs": [],
   "source": [
    "data['purpose_category'] = data['purpose'].apply(categorize_purpose)"
   ]
  },
  {
   "cell_type": "markdown",
   "id": "3d596c34",
   "metadata": {
    "deletable": false,
    "editable": false,
    "id": "3d596c34"
   },
   "source": [
    "### Шаг 3. Исследуйте данные и ответьте на вопросы"
   ]
  },
  {
   "cell_type": "markdown",
   "id": "648db036",
   "metadata": {
    "deletable": false,
    "editable": false,
    "id": "648db036"
   },
   "source": [
    "#### 3.1 Есть ли зависимость между количеством детей и возвратом кредита в срок?"
   ]
  },
  {
   "cell_type": "code",
   "execution_count": 22,
   "id": "0ec5c32f",
   "metadata": {},
   "outputs": [
    {
     "data": {
      "text/plain": [
       "array([1, 0, 3, 2, 4, 5])"
      ]
     },
     "execution_count": 22,
     "metadata": {},
     "output_type": "execute_result"
    }
   ],
   "source": [
    "data['children'].unique()"
   ]
  },
  {
   "cell_type": "code",
   "execution_count": 23,
   "id": "7c0a30a9",
   "metadata": {},
   "outputs": [
    {
     "data": {
      "text/html": [
       "<div>\n",
       "<style scoped>\n",
       "    .dataframe tbody tr th:only-of-type {\n",
       "        vertical-align: middle;\n",
       "    }\n",
       "\n",
       "    .dataframe tbody tr th {\n",
       "        vertical-align: top;\n",
       "    }\n",
       "\n",
       "    .dataframe thead th {\n",
       "        text-align: right;\n",
       "    }\n",
       "</style>\n",
       "<table border=\"1\" class=\"dataframe\">\n",
       "  <thead>\n",
       "    <tr style=\"text-align: right;\">\n",
       "      <th></th>\n",
       "      <th>count</th>\n",
       "      <th>mean</th>\n",
       "      <th>sum</th>\n",
       "    </tr>\n",
       "    <tr>\n",
       "      <th>children</th>\n",
       "      <th></th>\n",
       "      <th></th>\n",
       "      <th></th>\n",
       "    </tr>\n",
       "  </thead>\n",
       "  <tbody>\n",
       "    <tr>\n",
       "      <th>0</th>\n",
       "      <td>14091.0</td>\n",
       "      <td>0.075438</td>\n",
       "      <td>1063.0</td>\n",
       "    </tr>\n",
       "    <tr>\n",
       "      <th>1</th>\n",
       "      <td>4808.0</td>\n",
       "      <td>0.092346</td>\n",
       "      <td>444.0</td>\n",
       "    </tr>\n",
       "    <tr>\n",
       "      <th>2</th>\n",
       "      <td>2052.0</td>\n",
       "      <td>0.094542</td>\n",
       "      <td>194.0</td>\n",
       "    </tr>\n",
       "    <tr>\n",
       "      <th>3</th>\n",
       "      <td>330.0</td>\n",
       "      <td>0.081818</td>\n",
       "      <td>27.0</td>\n",
       "    </tr>\n",
       "    <tr>\n",
       "      <th>4</th>\n",
       "      <td>41.0</td>\n",
       "      <td>0.097561</td>\n",
       "      <td>4.0</td>\n",
       "    </tr>\n",
       "    <tr>\n",
       "      <th>5</th>\n",
       "      <td>9.0</td>\n",
       "      <td>0.000000</td>\n",
       "      <td>0.0</td>\n",
       "    </tr>\n",
       "  </tbody>\n",
       "</table>\n",
       "</div>"
      ],
      "text/plain": [
       "            count      mean     sum\n",
       "children                           \n",
       "0         14091.0  0.075438  1063.0\n",
       "1          4808.0  0.092346   444.0\n",
       "2          2052.0  0.094542   194.0\n",
       "3           330.0  0.081818    27.0\n",
       "4            41.0  0.097561     4.0\n",
       "5             9.0  0.000000     0.0"
      ]
     },
     "execution_count": 23,
     "metadata": {},
     "output_type": "execute_result"
    }
   ],
   "source": [
    "data_pivot = data.pivot_table(index = ['children'], values = 'debt', aggfunc={'sum', 'count', 'mean'})\n",
    "data_pivot"
   ]
  },
  {
   "cell_type": "markdown",
   "id": "2eb9088e",
   "metadata": {
    "deletable": false,
    "id": "2eb9088e"
   },
   "source": [
    "**Вывод:** \n",
    "Зависимость есть, кол-во детей хорошо сказывается на снижение задолжностей перед банком. Но все очень тяжело описать так как соотношение например клиентов у которых два ребенка и 5 разница в процентомном соотношении к общему кол-ву значений в столбце 0.43% на 99.57% поэтому лучше посчитать конверсию каждого случая и увидем конверсию от каждой категории."
   ]
  },
  {
   "cell_type": "markdown",
   "id": "cd14979b",
   "metadata": {},
   "source": [
    "**Вывод**\n",
    "\n",
    "Мы можем заметить что чем больше детей тем хуже платит заемщик дажи при том что есть маленькая просадка в категории 2 и 3 ребенка особено плохо платят заемщики у которых 4 ребенка, но при этом клиенты у которых 5 детей оплачивают все во время (даже если сложно это оценить так как кол-во клиентов у которых 5 детей очень мало)"
   ]
  },
  {
   "cell_type": "markdown",
   "id": "74c9b3a7",
   "metadata": {
    "deletable": false,
    "editable": false,
    "id": "74c9b3a7"
   },
   "source": [
    "#### 3.2 Есть ли зависимость между семейным положением и возвратом кредита в срок?"
   ]
  },
  {
   "cell_type": "code",
   "execution_count": 24,
   "id": "8098ab3b",
   "metadata": {
    "deletable": false,
    "id": "8098ab3b"
   },
   "outputs": [
    {
     "data": {
      "text/plain": [
       "family_status\n",
       "Не женат / не замужем    273\n",
       "в разводе                 84\n",
       "вдовец / вдова            63\n",
       "гражданский брак         385\n",
       "женат / замужем          927\n",
       "Name: debt, dtype: int64"
      ]
     },
     "execution_count": 24,
     "metadata": {},
     "output_type": "execute_result"
    }
   ],
   "source": [
    "data.groupby('family_status')['debt'].sum()"
   ]
  },
  {
   "cell_type": "markdown",
   "id": "ad4c60f8",
   "metadata": {},
   "source": [
    "**Посчитаем конверсию для каждого статуса**"
   ]
  },
  {
   "cell_type": "code",
   "execution_count": 25,
   "id": "0db6d7f7",
   "metadata": {
    "scrolled": true
   },
   "outputs": [],
   "source": [
    "AA = (273 / len(data[data['family_status'] == 'Не женат / не замужем'])) * 100\n",
    "BB = (84 / len(data[data['family_status'] == 'в разводе'])) * 100\n",
    "CC = (63 / len(data[data['family_status'] == 'вдовец / вдова'])) * 100\n",
    "DD = (385 / len(data[data['family_status'] == 'гражданский брак'])) * 100\n",
    "EE = (927 / len(data[data['family_status'] == 'женат / замужем'])) * 100"
   ]
  },
  {
   "cell_type": "code",
   "execution_count": 26,
   "id": "65221580",
   "metadata": {},
   "outputs": [
    {
     "name": "stdout",
     "output_type": "stream",
     "text": [
      "Конверсия не возрата кредита по категрии семейного статуса \"Не женат / не замужем\" 9.763948497854077%\n",
      "Конверсия не возрата кредита по категрии семейного статуса \"гражданский брак\" 9.313014029995163%\n",
      "Конверсия не возрата кредита по категрии семейного статуса \"женат / замужем\" 7.560557866405676%\n",
      "Конверсия не возрата кредита по категрии семейного статуса \"в разводе\" 7.064760302775442%\n",
      "Конверсия не возрата кредита по категрии семейного статуса \"вдовец / вдова\" 6.624605678233439%\n"
     ]
    }
   ],
   "source": [
    "print(f'Конверсия не возрата кредита по категрии семейного статуса \"Не женат / не замужем\" {AA}%')\n",
    "print(f'Конверсия не возрата кредита по категрии семейного статуса \"гражданский брак\" {DD}%')\n",
    "print(f'Конверсия не возрата кредита по категрии семейного статуса \"женат / замужем\" {EE}%')\n",
    "print(f'Конверсия не возрата кредита по категрии семейного статуса \"в разводе\" {BB}%')\n",
    "print(f'Конверсия не возрата кредита по категрии семейного статуса \"вдовец / вдова\" {CC}%')"
   ]
  },
  {
   "cell_type": "code",
   "execution_count": 27,
   "id": "c2e40f94",
   "metadata": {},
   "outputs": [
    {
     "data": {
      "text/html": [
       "<div>\n",
       "<style scoped>\n",
       "    .dataframe tbody tr th:only-of-type {\n",
       "        vertical-align: middle;\n",
       "    }\n",
       "\n",
       "    .dataframe tbody tr th {\n",
       "        vertical-align: top;\n",
       "    }\n",
       "\n",
       "    .dataframe thead th {\n",
       "        text-align: right;\n",
       "    }\n",
       "</style>\n",
       "<table border=\"1\" class=\"dataframe\">\n",
       "  <thead>\n",
       "    <tr style=\"text-align: right;\">\n",
       "      <th></th>\n",
       "      <th>count</th>\n",
       "      <th>mean</th>\n",
       "      <th>sum</th>\n",
       "    </tr>\n",
       "    <tr>\n",
       "      <th>family_status</th>\n",
       "      <th></th>\n",
       "      <th></th>\n",
       "      <th></th>\n",
       "    </tr>\n",
       "  </thead>\n",
       "  <tbody>\n",
       "    <tr>\n",
       "      <th>Не женат / не замужем</th>\n",
       "      <td>2796.0</td>\n",
       "      <td>0.097639</td>\n",
       "      <td>273.0</td>\n",
       "    </tr>\n",
       "    <tr>\n",
       "      <th>в разводе</th>\n",
       "      <td>1189.0</td>\n",
       "      <td>0.070648</td>\n",
       "      <td>84.0</td>\n",
       "    </tr>\n",
       "    <tr>\n",
       "      <th>вдовец / вдова</th>\n",
       "      <td>951.0</td>\n",
       "      <td>0.066246</td>\n",
       "      <td>63.0</td>\n",
       "    </tr>\n",
       "    <tr>\n",
       "      <th>гражданский брак</th>\n",
       "      <td>4134.0</td>\n",
       "      <td>0.093130</td>\n",
       "      <td>385.0</td>\n",
       "    </tr>\n",
       "    <tr>\n",
       "      <th>женат / замужем</th>\n",
       "      <td>12261.0</td>\n",
       "      <td>0.075606</td>\n",
       "      <td>927.0</td>\n",
       "    </tr>\n",
       "  </tbody>\n",
       "</table>\n",
       "</div>"
      ],
      "text/plain": [
       "                         count      mean    sum\n",
       "family_status                                  \n",
       "Не женат / не замужем   2796.0  0.097639  273.0\n",
       "в разводе               1189.0  0.070648   84.0\n",
       "вдовец / вдова           951.0  0.066246   63.0\n",
       "гражданский брак        4134.0  0.093130  385.0\n",
       "женат / замужем        12261.0  0.075606  927.0"
      ]
     },
     "execution_count": 27,
     "metadata": {},
     "output_type": "execute_result"
    }
   ],
   "source": [
    "data_pivot = data.pivot_table(index = ['family_status'], values = 'debt', aggfunc={'count', 'sum', 'mean'})\n",
    "data_pivot"
   ]
  },
  {
   "cell_type": "markdown",
   "id": "c389ca63",
   "metadata": {
    "deletable": false,
    "id": "c389ca63"
   },
   "source": [
    "**Вывод:** \n",
    "Если смотреть на конверсию и среднее значение каждой категории самый высокий риск в категории 'Не женат / не замужем' а также 'гражданский брак'. Самая не рисковая категория оказась 'вдовец / вдова'.\n",
    "Чуть более рисковая категория не возрата кредита оказались категории 'в разводе' и 'женат / замужем'."
   ]
  },
  {
   "cell_type": "markdown",
   "id": "9529de68",
   "metadata": {
    "deletable": false,
    "editable": false,
    "id": "9529de68"
   },
   "source": [
    "#### 3.3 Есть ли зависимость между уровнем дохода и возвратом кредита в срок?"
   ]
  },
  {
   "cell_type": "code",
   "execution_count": 28,
   "id": "47991652",
   "metadata": {},
   "outputs": [
    {
     "data": {
      "text/html": [
       "<div>\n",
       "<style scoped>\n",
       "    .dataframe tbody tr th:only-of-type {\n",
       "        vertical-align: middle;\n",
       "    }\n",
       "\n",
       "    .dataframe tbody tr th {\n",
       "        vertical-align: top;\n",
       "    }\n",
       "\n",
       "    .dataframe thead th {\n",
       "        text-align: right;\n",
       "    }\n",
       "</style>\n",
       "<table border=\"1\" class=\"dataframe\">\n",
       "  <thead>\n",
       "    <tr style=\"text-align: right;\">\n",
       "      <th></th>\n",
       "      <th>count</th>\n",
       "      <th>mean</th>\n",
       "      <th>sum</th>\n",
       "    </tr>\n",
       "    <tr>\n",
       "      <th>total_income_category</th>\n",
       "      <th></th>\n",
       "      <th></th>\n",
       "      <th></th>\n",
       "    </tr>\n",
       "  </thead>\n",
       "  <tbody>\n",
       "    <tr>\n",
       "      <th>A</th>\n",
       "      <td>25.0</td>\n",
       "      <td>0.080000</td>\n",
       "      <td>2.0</td>\n",
       "    </tr>\n",
       "    <tr>\n",
       "      <th>B</th>\n",
       "      <td>5014.0</td>\n",
       "      <td>0.070602</td>\n",
       "      <td>354.0</td>\n",
       "    </tr>\n",
       "    <tr>\n",
       "      <th>C</th>\n",
       "      <td>15921.0</td>\n",
       "      <td>0.084982</td>\n",
       "      <td>1353.0</td>\n",
       "    </tr>\n",
       "    <tr>\n",
       "      <th>D</th>\n",
       "      <td>349.0</td>\n",
       "      <td>0.060172</td>\n",
       "      <td>21.0</td>\n",
       "    </tr>\n",
       "    <tr>\n",
       "      <th>E</th>\n",
       "      <td>22.0</td>\n",
       "      <td>0.090909</td>\n",
       "      <td>2.0</td>\n",
       "    </tr>\n",
       "  </tbody>\n",
       "</table>\n",
       "</div>"
      ],
      "text/plain": [
       "                         count      mean     sum\n",
       "total_income_category                           \n",
       "A                         25.0  0.080000     2.0\n",
       "B                       5014.0  0.070602   354.0\n",
       "C                      15921.0  0.084982  1353.0\n",
       "D                        349.0  0.060172    21.0\n",
       "E                         22.0  0.090909     2.0"
      ]
     },
     "execution_count": 28,
     "metadata": {},
     "output_type": "execute_result"
    }
   ],
   "source": [
    "data_pivot = data.pivot_table(index = ['total_income_category'], values = 'debt', aggfunc={'sum', 'count', 'mean'})\n",
    "data_pivot"
   ]
  },
  {
   "cell_type": "markdown",
   "id": "39fd4ba2",
   "metadata": {},
   "source": [
    "Здесь будем обращать внимание только на две категории ('C' и 'B') так как у них значения значительно отличаются от остальных. "
   ]
  },
  {
   "cell_type": "markdown",
   "id": "6dd14b57",
   "metadata": {
    "deletable": false,
    "id": "6dd14b57"
   },
   "source": [
    "**Вывод:** \n",
    "\n",
    "Касательно среднего арфиметического, здесь мы посмотрим только на два значения категрии B и C так как у них самые большие значения. Мы можем сказать что категория 'C' оплачиваю не во время и их среднее значение 0.084982 что достаточно не плохо в то время как у категории 'B' 0.070602, ниже значение."
   ]
  },
  {
   "cell_type": "markdown",
   "id": "1dcc9b12",
   "metadata": {
    "deletable": false,
    "editable": false,
    "id": "1dcc9b12"
   },
   "source": [
    "#### 3.4 Как разные цели кредита влияют на его возврат в срок?"
   ]
  },
  {
   "cell_type": "code",
   "execution_count": 29,
   "id": "ec4aecf6",
   "metadata": {},
   "outputs": [
    {
     "data": {
      "text/plain": [
       "purpose_category\n",
       "операции с автомобилем      400\n",
       "операции с недвижимостью    780\n",
       "получение образования       369\n",
       "проведение свадьбы          183\n",
       "Name: debt, dtype: int64"
      ]
     },
     "execution_count": 29,
     "metadata": {},
     "output_type": "execute_result"
    }
   ],
   "source": [
    "data.groupby('purpose_category')['debt'].sum()"
   ]
  },
  {
   "cell_type": "code",
   "execution_count": 30,
   "id": "c602bc8b",
   "metadata": {
    "deletable": false,
    "id": "c602bc8b"
   },
   "outputs": [
    {
     "name": "stdout",
     "output_type": "stream",
     "text": [
      "Конверсия риска у клиенов не возврата \"проведение свадьбы\" 15.953307392996107%\n",
      "Конверсия риска у клиенов не возврата \"операции с автомобилем\" 9.34797849964945%\n",
      "Конверсия риска у клиенов не возврата \"получение образовани\" 9.252758274824474%\n",
      "Конверсия риска у клиенов не возврата \"операции с недвижимостью\" 7.255139056831923%\n"
     ]
    }
   ],
   "source": [
    "conversion_avto = 400 / len(data[data['purpose_category'] == 'операции с автомобилем'])\n",
    "conversion_avto = conversion_avto * 100\n",
    "conversion_estate = 780 / len(data[data['purpose_category'] == 'операции с недвижимостью'])\n",
    "conversion_estate = conversion_estate * 100\n",
    "conversion_education = 369 / len(data[data['purpose_category'] == 'получение образования'])\n",
    "conversion_education = conversion_education * 100\n",
    "conversion_wedding = 369 / len(data[data['purpose_category'] == 'проведение свадьбы'])\n",
    "conversion_wedding = conversion_wedding * 100\n",
    "print(f'Конверсия риска у клиенов не возврата \"проведение свадьбы\" {conversion_wedding}%')\n",
    "print(f'Конверсия риска у клиенов не возврата \"операции с автомобилем\" {conversion_avto}%')\n",
    "print(f'Конверсия риска у клиенов не возврата \"получение образовани\" {conversion_education}%')\n",
    "print(f'Конверсия риска у клиенов не возврата \"операции с недвижимостью\" {conversion_estate}%')"
   ]
  },
  {
   "cell_type": "code",
   "execution_count": 31,
   "id": "e833a937",
   "metadata": {},
   "outputs": [
    {
     "data": {
      "text/html": [
       "<div>\n",
       "<style scoped>\n",
       "    .dataframe tbody tr th:only-of-type {\n",
       "        vertical-align: middle;\n",
       "    }\n",
       "\n",
       "    .dataframe tbody tr th {\n",
       "        vertical-align: top;\n",
       "    }\n",
       "\n",
       "    .dataframe thead th {\n",
       "        text-align: right;\n",
       "    }\n",
       "</style>\n",
       "<table border=\"1\" class=\"dataframe\">\n",
       "  <thead>\n",
       "    <tr style=\"text-align: right;\">\n",
       "      <th></th>\n",
       "      <th>count</th>\n",
       "      <th>mean</th>\n",
       "      <th>sum</th>\n",
       "    </tr>\n",
       "    <tr>\n",
       "      <th>purpose_category</th>\n",
       "      <th></th>\n",
       "      <th></th>\n",
       "      <th></th>\n",
       "    </tr>\n",
       "  </thead>\n",
       "  <tbody>\n",
       "    <tr>\n",
       "      <th>операции с автомобилем</th>\n",
       "      <td>4279.0</td>\n",
       "      <td>0.093480</td>\n",
       "      <td>400.0</td>\n",
       "    </tr>\n",
       "    <tr>\n",
       "      <th>операции с недвижимостью</th>\n",
       "      <td>10751.0</td>\n",
       "      <td>0.072551</td>\n",
       "      <td>780.0</td>\n",
       "    </tr>\n",
       "    <tr>\n",
       "      <th>получение образования</th>\n",
       "      <td>3988.0</td>\n",
       "      <td>0.092528</td>\n",
       "      <td>369.0</td>\n",
       "    </tr>\n",
       "    <tr>\n",
       "      <th>проведение свадьбы</th>\n",
       "      <td>2313.0</td>\n",
       "      <td>0.079118</td>\n",
       "      <td>183.0</td>\n",
       "    </tr>\n",
       "  </tbody>\n",
       "</table>\n",
       "</div>"
      ],
      "text/plain": [
       "                            count      mean    sum\n",
       "purpose_category                                  \n",
       "операции с автомобилем     4279.0  0.093480  400.0\n",
       "операции с недвижимостью  10751.0  0.072551  780.0\n",
       "получение образования      3988.0  0.092528  369.0\n",
       "проведение свадьбы         2313.0  0.079118  183.0"
      ]
     },
     "execution_count": 31,
     "metadata": {},
     "output_type": "execute_result"
    }
   ],
   "source": [
    "data_pivot = data.pivot_table(index = ['purpose_category'], values = 'debt', aggfunc={'count', 'mean', 'sum'})\n",
    "data_pivot"
   ]
  },
  {
   "cell_type": "markdown",
   "id": "fdb1c6c7",
   "metadata": {},
   "source": [
    "но у меня не сходятся данные в таблице с теми что я прописывал вручную"
   ]
  },
  {
   "cell_type": "markdown",
   "id": "cf05ed63",
   "metadata": {
    "deletable": false,
    "id": "cf05ed63"
   },
   "source": [
    "**Вывод:**\n",
    "Касательно конверсии: невооруженным глазом можно увидеть достаточно высокий риск не возрата кредита клиентов которые взяли кредит на 'проведение свадьбы' аж 16% невозрата, в то время как наименьшее кол-во невозврата у категории 'операции с недвижимостью'. \n",
    "Список конверсии людей не вернувшие кредит по категориям:\n",
    "\n",
    "'проведение свадьбы' : 15.95%\n",
    "\n",
    "'операции с автомобилем' : 9.35%\n",
    "\n",
    "'получение образования' : 9.25%\n",
    "\n",
    "'операции с недвижимостью' : 7.26%"
   ]
  },
  {
   "cell_type": "markdown",
   "id": "46c1f10b",
   "metadata": {
    "deletable": false,
    "editable": false,
    "id": "46c1f10b"
   },
   "source": [
    "#### 3.5 Приведите возможные причины появления пропусков в исходных данных."
   ]
  },
  {
   "cell_type": "markdown",
   "id": "3697d2a9",
   "metadata": {
    "deletable": false,
    "id": "3697d2a9"
   },
   "source": [
    "*Ответ:* \n",
    "Мы видем пропуски в начале только в двух столбцах, это кол-во рабочих дней (стаж) и второе это заработок. Что на самом деле связанно между собой так как пропуски скорее всего из за отсутсвия работы и соответсвенно рабочего стажа. также причиной отсутствия данных может быть \n",
    "намеренное скрытие данных и технический сбой."
   ]
  },
  {
   "cell_type": "markdown",
   "id": "3137d257",
   "metadata": {
    "deletable": false,
    "editable": false,
    "id": "3137d257"
   },
   "source": [
    "#### 3.6 Объясните, почему заполнить пропуски медианным значением — лучшее решение для количественных переменных."
   ]
  },
  {
   "cell_type": "markdown",
   "id": "cf40012a",
   "metadata": {
    "deletable": false,
    "id": "cf40012a"
   },
   "source": [
    "*Ответ:* \n",
    "так как данные могут быть не нормального распределения и лучше всего в таких случаях брать медиану которая дает нам более приблеженное значение и более подходящее"
   ]
  },
  {
   "cell_type": "markdown",
   "id": "57bc304e",
   "metadata": {
    "deletable": false,
    "editable": false,
    "id": "57bc304e"
   },
   "source": [
    "### Шаг 4: общий вывод."
   ]
  },
  {
   "cell_type": "markdown",
   "id": "1ab75d1c",
   "metadata": {
    "deletable": false,
    "id": "1ab75d1c"
   },
   "source": [
    "Мы провели иследование по заемщикам банка и провели три основных шага:\n",
    "1. **Предобработка данных**:\n",
    "\n",
    "Мы удалили все дубликаты и вместо путсых значение в числовых столбцах заменили их на медиану этих значеий\n",
    "и также изменили тип данных. \n",
    "\n",
    "2. **Категоризация данных**:\n",
    "\n",
    "Мы также раделили доходы клиентов на 5 основных категорий A, B, C, D, E\n",
    "\n",
    "3. **Гипотезы**:\n",
    "\n",
    "1)Есть ли зависимость между количеством детей и возвратом кредита в срок?\n",
    "Клиенты у кого нет детей или кол-во детей равно трем более надежные недели чем клиенты с 1, 2, 4 детьми.\n",
    "\n",
    "2)Есть ли зависимость между семейным положением и возвратом кредита в срок?\n",
    "Менее рискованные клиенты оказались у кого есть семья но при этом кто в разводе также менее рисковые клиенты в то время как самые не надежные клиенты оказались из категории \"Не женат / не замужем\" и \"гражданский брак\"\n",
    "\n",
    "3)Здесь мы смогли сравнить только две категории 'B' и 'C' так как у них значения гораздо больше остальных. \n",
    "\n",
    "4)\n",
    "Достаточно высокий риск не возрата кредита клиентов которые взяли кредит на 'проведение свадьбы', а наименьшее кол-во невозврата у категории 'операции с недвижимостью' и среднее значение у категорий  'получение образования' и 'операции с автомобилем'"
   ]
  },
  {
   "cell_type": "markdown",
   "id": "d2c23f76",
   "metadata": {},
   "source": [
    "Спасибо большое, прочитал понял все, стало намного легче"
   ]
  },
  {
   "cell_type": "code",
   "execution_count": 32,
   "id": "8787f44a",
   "metadata": {
    "deletable": false,
    "id": "8787f44a"
   },
   "outputs": [
    {
     "ename": "SyntaxError",
     "evalue": "invalid syntax (900400589.py, line 2)",
     "output_type": "error",
     "traceback": [
      "\u001b[0;36m  File \u001b[0;32m\"/tmp/ipykernel_111/900400589.py\"\u001b[0;36m, line \u001b[0;32m2\u001b[0m\n\u001b[0;31m    data_pivot\u001b[0m\n\u001b[0m    ^\u001b[0m\n\u001b[0;31mSyntaxError\u001b[0m\u001b[0;31m:\u001b[0m invalid syntax\n"
     ]
    }
   ],
   "source": [
    "data_pivot = data.pivot_table(index = ['total_income_category'], values = 'days_employed', aggfunc={'mean'}).boxplot(bins = 100\n",
    "data_pivot\n",
    "\n",
    "\n",
    "\n"
   ]
  },
  {
   "cell_type": "code",
   "execution_count": null,
   "id": "7fcff25e",
   "metadata": {
    "deletable": false,
    "id": "7fcff25e"
   },
   "outputs": [],
   "source": []
  }
 ],
 "metadata": {
  "ExecuteTimeLog": [
   {
    "duration": 49,
    "start_time": "2023-09-27T10:21:44.547Z"
   },
   {
    "duration": 7,
    "start_time": "2023-09-27T10:21:52.464Z"
   },
   {
    "duration": 6,
    "start_time": "2023-09-27T10:24:05.771Z"
   },
   {
    "duration": 6,
    "start_time": "2023-09-27T10:25:00.052Z"
   },
   {
    "duration": 515,
    "start_time": "2023-09-27T10:25:18.578Z"
   },
   {
    "duration": 21,
    "start_time": "2023-09-27T10:25:21.742Z"
   },
   {
    "duration": 15,
    "start_time": "2023-09-27T10:25:25.441Z"
   },
   {
    "duration": 11,
    "start_time": "2023-09-27T10:25:28.965Z"
   },
   {
    "duration": 37,
    "start_time": "2023-09-27T10:25:32.186Z"
   },
   {
    "duration": 3,
    "start_time": "2023-09-27T10:25:34.395Z"
   },
   {
    "duration": 14,
    "start_time": "2023-09-27T10:25:36.576Z"
   },
   {
    "duration": 5,
    "start_time": "2023-09-27T10:25:41.637Z"
   },
   {
    "duration": 7,
    "start_time": "2023-09-27T10:25:44.735Z"
   },
   {
    "duration": 6,
    "start_time": "2023-09-27T10:25:47.177Z"
   },
   {
    "duration": 12,
    "start_time": "2023-09-27T10:25:50.472Z"
   },
   {
    "duration": 4,
    "start_time": "2023-09-27T10:25:53.561Z"
   },
   {
    "duration": 13,
    "start_time": "2023-09-27T10:25:56.050Z"
   },
   {
    "duration": 21,
    "start_time": "2023-09-27T10:25:58.049Z"
   },
   {
    "duration": 20,
    "start_time": "2023-09-27T10:26:00.105Z"
   },
   {
    "duration": 4,
    "start_time": "2023-09-27T10:26:04.273Z"
   },
   {
    "duration": 13,
    "start_time": "2023-09-27T10:26:08.450Z"
   },
   {
    "duration": 7,
    "start_time": "2023-09-27T10:26:10.950Z"
   },
   {
    "duration": 4,
    "start_time": "2023-09-27T10:26:14.795Z"
   },
   {
    "duration": 10,
    "start_time": "2023-09-27T10:26:17.155Z"
   },
   {
    "duration": 16,
    "start_time": "2023-09-27T10:26:25.018Z"
   },
   {
    "duration": 47,
    "start_time": "2023-09-27T10:28:28.464Z"
   },
   {
    "duration": 7,
    "start_time": "2023-09-27T10:28:41.079Z"
   },
   {
    "duration": 19,
    "start_time": "2023-09-27T10:29:59.416Z"
   },
   {
    "duration": 5,
    "start_time": "2023-09-27T10:31:06.575Z"
   },
   {
    "duration": 8,
    "start_time": "2023-09-27T10:31:26.425Z"
   },
   {
    "duration": 24,
    "start_time": "2023-09-27T10:33:35.086Z"
   },
   {
    "duration": 20,
    "start_time": "2023-09-27T10:33:54.650Z"
   },
   {
    "duration": 15,
    "start_time": "2023-09-27T10:34:06.198Z"
   },
   {
    "duration": 8,
    "start_time": "2023-09-27T11:31:32.864Z"
   },
   {
    "duration": 34,
    "start_time": "2023-09-27T11:34:55.333Z"
   },
   {
    "duration": 12,
    "start_time": "2023-09-27T11:35:19.650Z"
   },
   {
    "duration": 10,
    "start_time": "2023-09-27T11:35:33.143Z"
   },
   {
    "duration": 25,
    "start_time": "2023-09-27T11:37:00.067Z"
   },
   {
    "duration": 14,
    "start_time": "2023-09-27T11:37:09.631Z"
   },
   {
    "duration": 17,
    "start_time": "2023-09-27T12:00:05.918Z"
   },
   {
    "duration": 7,
    "start_time": "2023-09-27T12:00:52.024Z"
   },
   {
    "duration": 7,
    "start_time": "2023-09-27T12:01:09.527Z"
   },
   {
    "duration": 7,
    "start_time": "2023-09-27T12:01:34.949Z"
   },
   {
    "duration": 8,
    "start_time": "2023-09-27T12:02:04.997Z"
   },
   {
    "duration": 9,
    "start_time": "2023-09-27T12:02:06.840Z"
   },
   {
    "duration": 198,
    "start_time": "2023-09-27T12:03:20.392Z"
   },
   {
    "duration": 7,
    "start_time": "2023-09-27T12:04:34.328Z"
   },
   {
    "duration": 7,
    "start_time": "2023-09-27T12:04:44.645Z"
   },
   {
    "duration": 7,
    "start_time": "2023-09-27T12:04:52.455Z"
   },
   {
    "duration": 7,
    "start_time": "2023-09-27T12:04:59.417Z"
   },
   {
    "duration": 8,
    "start_time": "2023-09-27T12:05:08.102Z"
   },
   {
    "duration": 8,
    "start_time": "2023-09-27T12:05:49.102Z"
   },
   {
    "duration": 6,
    "start_time": "2023-09-27T12:05:55.000Z"
   },
   {
    "duration": 8,
    "start_time": "2023-09-27T12:05:59.335Z"
   },
   {
    "duration": 7,
    "start_time": "2023-09-27T12:08:58.416Z"
   },
   {
    "duration": 8,
    "start_time": "2023-09-27T15:01:36.782Z"
   },
   {
    "duration": 7,
    "start_time": "2023-09-27T15:01:51.609Z"
   },
   {
    "duration": 5,
    "start_time": "2023-09-27T15:02:29.527Z"
   },
   {
    "duration": 5,
    "start_time": "2023-09-27T15:02:42.552Z"
   },
   {
    "duration": 5,
    "start_time": "2023-09-27T15:02:58.732Z"
   },
   {
    "duration": 100,
    "start_time": "2023-09-27T15:05:21.961Z"
   },
   {
    "duration": 11,
    "start_time": "2023-09-27T15:25:09.676Z"
   },
   {
    "duration": 10,
    "start_time": "2023-09-27T15:25:47.248Z"
   },
   {
    "duration": 7,
    "start_time": "2023-09-27T15:27:01.705Z"
   },
   {
    "duration": 7,
    "start_time": "2023-09-27T15:27:54.066Z"
   },
   {
    "duration": 9,
    "start_time": "2023-09-27T15:28:07.862Z"
   },
   {
    "duration": 7,
    "start_time": "2023-09-27T15:28:34.193Z"
   },
   {
    "duration": 6,
    "start_time": "2023-09-27T15:28:50.198Z"
   },
   {
    "duration": 355,
    "start_time": "2023-09-27T16:01:22.642Z"
   },
   {
    "duration": 459,
    "start_time": "2023-09-27T16:01:57.534Z"
   },
   {
    "duration": 98,
    "start_time": "2023-09-27T16:02:53.109Z"
   },
   {
    "duration": 84,
    "start_time": "2023-09-27T16:03:05.862Z"
   },
   {
    "duration": 420,
    "start_time": "2023-09-27T16:05:41.290Z"
   },
   {
    "duration": 407,
    "start_time": "2023-09-27T16:06:15.931Z"
   },
   {
    "duration": 8,
    "start_time": "2023-09-27T16:06:42.358Z"
   },
   {
    "duration": 10,
    "start_time": "2023-09-27T16:06:50.122Z"
   },
   {
    "duration": 12,
    "start_time": "2023-09-27T16:06:52.502Z"
   },
   {
    "duration": 9,
    "start_time": "2023-09-27T16:07:30.457Z"
   },
   {
    "duration": 9,
    "start_time": "2023-09-27T16:09:53.960Z"
   },
   {
    "duration": 9,
    "start_time": "2023-09-27T16:10:10.823Z"
   },
   {
    "duration": 11,
    "start_time": "2023-09-27T16:10:25.558Z"
   },
   {
    "duration": 12,
    "start_time": "2023-09-27T16:10:27.973Z"
   },
   {
    "duration": 8,
    "start_time": "2023-09-27T16:10:34.503Z"
   },
   {
    "duration": 27,
    "start_time": "2023-09-27T16:12:07.878Z"
   },
   {
    "duration": 23,
    "start_time": "2023-09-27T16:12:17.092Z"
   },
   {
    "duration": 24,
    "start_time": "2023-09-27T16:12:28.320Z"
   },
   {
    "duration": 9,
    "start_time": "2023-09-27T16:12:39.424Z"
   },
   {
    "duration": 9,
    "start_time": "2023-09-27T16:13:19.856Z"
   },
   {
    "duration": 8,
    "start_time": "2023-09-27T16:14:00.448Z"
   },
   {
    "duration": 7,
    "start_time": "2023-09-27T16:14:53.286Z"
   },
   {
    "duration": 9,
    "start_time": "2023-09-27T16:20:43.157Z"
   },
   {
    "duration": 9,
    "start_time": "2023-09-27T16:20:45.066Z"
   },
   {
    "duration": 7,
    "start_time": "2023-09-27T16:20:48.321Z"
   },
   {
    "duration": 7,
    "start_time": "2023-09-27T16:20:52.307Z"
   },
   {
    "duration": 6,
    "start_time": "2023-09-27T16:21:41.697Z"
   },
   {
    "duration": 7,
    "start_time": "2023-09-27T16:21:52.969Z"
   },
   {
    "duration": 9,
    "start_time": "2023-09-27T16:22:06.614Z"
   },
   {
    "duration": 8,
    "start_time": "2023-09-27T16:22:19.634Z"
   },
   {
    "duration": 7,
    "start_time": "2023-09-27T16:22:30.057Z"
   },
   {
    "duration": 8,
    "start_time": "2023-09-27T16:22:57.844Z"
   },
   {
    "duration": 6,
    "start_time": "2023-09-27T16:23:10.330Z"
   },
   {
    "duration": 6,
    "start_time": "2023-09-27T16:23:24.182Z"
   },
   {
    "duration": 6,
    "start_time": "2023-09-27T16:23:42.884Z"
   },
   {
    "duration": 6,
    "start_time": "2023-09-27T16:23:56.483Z"
   },
   {
    "duration": 104,
    "start_time": "2023-09-27T16:25:42.571Z"
   },
   {
    "duration": 125,
    "start_time": "2023-09-27T16:25:54.793Z"
   },
   {
    "duration": 17,
    "start_time": "2023-09-27T16:26:12.987Z"
   },
   {
    "duration": 83,
    "start_time": "2023-09-27T16:27:06.279Z"
   },
   {
    "duration": 16,
    "start_time": "2023-09-27T16:27:15.446Z"
   },
   {
    "duration": 107,
    "start_time": "2023-09-27T16:30:07.947Z"
   },
   {
    "duration": 134,
    "start_time": "2023-09-27T16:30:53.564Z"
   },
   {
    "duration": 16,
    "start_time": "2023-09-27T16:31:12.582Z"
   },
   {
    "duration": 24,
    "start_time": "2023-09-27T16:31:38.081Z"
   },
   {
    "duration": 116,
    "start_time": "2023-09-27T16:32:48.465Z"
   },
   {
    "duration": 118,
    "start_time": "2023-09-27T16:32:56.503Z"
   },
   {
    "duration": 74,
    "start_time": "2023-09-27T16:33:22.372Z"
   },
   {
    "duration": 15,
    "start_time": "2023-09-27T16:33:29.035Z"
   },
   {
    "duration": 84,
    "start_time": "2023-09-27T16:33:49.685Z"
   },
   {
    "duration": 17,
    "start_time": "2023-09-27T16:34:19.788Z"
   },
   {
    "duration": 142,
    "start_time": "2023-09-27T16:34:41.318Z"
   },
   {
    "duration": 18,
    "start_time": "2023-09-27T16:34:45.594Z"
   },
   {
    "duration": 16,
    "start_time": "2023-09-27T16:35:07.984Z"
   },
   {
    "duration": 17,
    "start_time": "2023-09-27T16:35:24.878Z"
   },
   {
    "duration": 16,
    "start_time": "2023-09-27T16:36:07.326Z"
   },
   {
    "duration": 16,
    "start_time": "2023-09-27T16:36:59.459Z"
   },
   {
    "duration": 4,
    "start_time": "2023-09-27T16:49:54.354Z"
   },
   {
    "duration": 3,
    "start_time": "2023-09-27T16:50:07.368Z"
   },
   {
    "duration": 5,
    "start_time": "2023-09-27T16:50:38.743Z"
   },
   {
    "duration": 10,
    "start_time": "2023-09-27T16:51:54.457Z"
   },
   {
    "duration": 7,
    "start_time": "2023-09-27T16:51:56.851Z"
   },
   {
    "duration": 5,
    "start_time": "2023-09-27T16:52:54.437Z"
   },
   {
    "duration": 6,
    "start_time": "2023-09-27T16:53:13.039Z"
   },
   {
    "duration": 5,
    "start_time": "2023-09-27T16:53:19.599Z"
   },
   {
    "duration": 6,
    "start_time": "2023-09-27T16:53:21.282Z"
   },
   {
    "duration": 7,
    "start_time": "2023-09-27T16:53:37.530Z"
   },
   {
    "duration": 4,
    "start_time": "2023-09-27T16:56:58.684Z"
   },
   {
    "duration": 3,
    "start_time": "2023-09-27T16:57:11.515Z"
   },
   {
    "duration": 3,
    "start_time": "2023-09-27T16:57:11.830Z"
   },
   {
    "duration": 5,
    "start_time": "2023-09-27T16:58:33.895Z"
   },
   {
    "duration": 24,
    "start_time": "2023-09-27T17:02:00.354Z"
   },
   {
    "duration": 3,
    "start_time": "2023-09-27T17:03:09.775Z"
   },
   {
    "duration": 4,
    "start_time": "2023-09-27T17:03:28.445Z"
   },
   {
    "duration": 16,
    "start_time": "2023-09-27T17:03:48.994Z"
   },
   {
    "duration": 4,
    "start_time": "2023-09-27T17:03:50.244Z"
   },
   {
    "duration": 5,
    "start_time": "2023-09-27T17:04:12.153Z"
   },
   {
    "duration": 4,
    "start_time": "2023-09-27T17:53:55.759Z"
   },
   {
    "duration": 5,
    "start_time": "2023-09-27T17:54:05.736Z"
   },
   {
    "duration": 11,
    "start_time": "2023-09-27T17:57:25.805Z"
   },
   {
    "duration": 4,
    "start_time": "2023-09-27T17:57:40.324Z"
   },
   {
    "duration": 23,
    "start_time": "2023-09-27T17:59:20.962Z"
   },
   {
    "duration": 26,
    "start_time": "2023-09-27T17:59:45.566Z"
   },
   {
    "duration": 18,
    "start_time": "2023-09-27T18:00:00.424Z"
   },
   {
    "duration": 493,
    "start_time": "2023-09-27T18:31:26.080Z"
   },
   {
    "duration": 24,
    "start_time": "2023-09-27T18:31:26.576Z"
   },
   {
    "duration": 22,
    "start_time": "2023-09-27T18:31:26.605Z"
   },
   {
    "duration": 31,
    "start_time": "2023-09-27T18:31:26.629Z"
   },
   {
    "duration": 84,
    "start_time": "2023-09-27T18:31:26.662Z"
   },
   {
    "duration": 3,
    "start_time": "2023-09-27T18:31:26.748Z"
   },
   {
    "duration": 37,
    "start_time": "2023-09-27T18:31:26.753Z"
   },
   {
    "duration": 36,
    "start_time": "2023-09-27T18:31:26.792Z"
   },
   {
    "duration": 29,
    "start_time": "2023-09-27T18:31:26.830Z"
   },
   {
    "duration": 45,
    "start_time": "2023-09-27T18:31:26.861Z"
   },
   {
    "duration": 59,
    "start_time": "2023-09-27T18:31:26.908Z"
   },
   {
    "duration": 11,
    "start_time": "2023-09-27T18:31:26.969Z"
   },
   {
    "duration": 33,
    "start_time": "2023-09-27T18:31:26.982Z"
   },
   {
    "duration": 42,
    "start_time": "2023-09-27T18:31:27.017Z"
   },
   {
    "duration": 50,
    "start_time": "2023-09-27T18:31:27.061Z"
   },
   {
    "duration": 25,
    "start_time": "2023-09-27T18:31:27.113Z"
   },
   {
    "duration": 25,
    "start_time": "2023-09-27T18:31:27.140Z"
   },
   {
    "duration": 41,
    "start_time": "2023-09-27T18:31:27.168Z"
   },
   {
    "duration": 20,
    "start_time": "2023-09-27T18:31:27.210Z"
   },
   {
    "duration": 14,
    "start_time": "2023-09-27T18:31:27.232Z"
   },
   {
    "duration": 45,
    "start_time": "2023-09-27T18:31:27.247Z"
   },
   {
    "duration": 27,
    "start_time": "2023-09-27T18:31:27.293Z"
   },
   {
    "duration": 34,
    "start_time": "2023-09-27T18:31:27.321Z"
   },
   {
    "duration": 37,
    "start_time": "2023-09-27T18:31:27.357Z"
   },
   {
    "duration": 22,
    "start_time": "2023-09-27T18:31:27.396Z"
   },
   {
    "duration": 45,
    "start_time": "2023-09-27T18:31:27.419Z"
   },
   {
    "duration": 28,
    "start_time": "2023-09-27T18:31:27.467Z"
   },
   {
    "duration": 21,
    "start_time": "2023-09-27T18:31:27.496Z"
   },
   {
    "duration": 31,
    "start_time": "2023-09-27T18:31:27.519Z"
   },
   {
    "duration": 40,
    "start_time": "2023-09-27T18:31:27.552Z"
   },
   {
    "duration": 29,
    "start_time": "2023-09-27T18:31:27.594Z"
   },
   {
    "duration": 20,
    "start_time": "2023-09-27T18:31:27.625Z"
   },
   {
    "duration": 29,
    "start_time": "2023-09-27T18:31:27.647Z"
   },
   {
    "duration": 94,
    "start_time": "2023-09-27T18:31:27.677Z"
   },
   {
    "duration": 117,
    "start_time": "2023-09-28T05:50:04.395Z"
   },
   {
    "duration": 51,
    "start_time": "2023-09-28T05:50:16.229Z"
   },
   {
    "duration": 49,
    "start_time": "2023-09-28T10:26:30.283Z"
   },
   {
    "duration": 6,
    "start_time": "2023-09-28T10:26:43.708Z"
   },
   {
    "duration": 7,
    "start_time": "2023-09-28T10:27:15.944Z"
   },
   {
    "duration": 6,
    "start_time": "2023-09-28T10:27:34.604Z"
   },
   {
    "duration": 61,
    "start_time": "2023-09-28T10:27:53.520Z"
   },
   {
    "duration": 6,
    "start_time": "2023-09-28T10:28:04.382Z"
   },
   {
    "duration": 8,
    "start_time": "2023-09-28T10:28:19.182Z"
   },
   {
    "duration": 7,
    "start_time": "2023-09-28T10:29:01.746Z"
   },
   {
    "duration": 6,
    "start_time": "2023-09-28T10:29:05.707Z"
   },
   {
    "duration": 709,
    "start_time": "2023-09-28T10:29:15.651Z"
   },
   {
    "duration": 23,
    "start_time": "2023-09-28T10:29:17.547Z"
   },
   {
    "duration": 19,
    "start_time": "2023-09-28T10:29:21.148Z"
   },
   {
    "duration": 11,
    "start_time": "2023-09-28T10:29:23.342Z"
   },
   {
    "duration": 37,
    "start_time": "2023-09-28T10:29:25.862Z"
   },
   {
    "duration": 3,
    "start_time": "2023-09-28T10:29:27.743Z"
   },
   {
    "duration": 8,
    "start_time": "2023-09-28T10:29:30.574Z"
   },
   {
    "duration": 5,
    "start_time": "2023-09-28T10:29:33.343Z"
   },
   {
    "duration": 7,
    "start_time": "2023-09-28T10:29:35.789Z"
   },
   {
    "duration": 4,
    "start_time": "2023-09-28T10:29:37.747Z"
   },
   {
    "duration": 34,
    "start_time": "2023-09-28T10:29:40.845Z"
   },
   {
    "duration": 12,
    "start_time": "2023-09-28T10:29:42.782Z"
   },
   {
    "duration": 4,
    "start_time": "2023-09-28T10:29:45.507Z"
   },
   {
    "duration": 13,
    "start_time": "2023-09-28T10:29:47.886Z"
   },
   {
    "duration": 20,
    "start_time": "2023-09-28T10:29:50.071Z"
   },
   {
    "duration": 18,
    "start_time": "2023-09-28T10:29:52.593Z"
   },
   {
    "duration": 3,
    "start_time": "2023-09-28T10:29:55.562Z"
   },
   {
    "duration": 11,
    "start_time": "2023-09-28T10:29:57.152Z"
   },
   {
    "duration": 6,
    "start_time": "2023-09-28T10:30:00.084Z"
   },
   {
    "duration": 5,
    "start_time": "2023-09-28T10:30:03.914Z"
   },
   {
    "duration": 14,
    "start_time": "2023-09-28T10:30:06.546Z"
   },
   {
    "duration": 5,
    "start_time": "2023-09-28T10:30:08.896Z"
   },
   {
    "duration": 8,
    "start_time": "2023-09-28T10:30:10.512Z"
   },
   {
    "duration": 29,
    "start_time": "2023-09-28T10:30:20.117Z"
   },
   {
    "duration": 23,
    "start_time": "2023-09-28T10:30:53.011Z"
   },
   {
    "duration": 15,
    "start_time": "2023-09-28T10:38:52.745Z"
   },
   {
    "duration": 19,
    "start_time": "2023-09-28T10:39:35.743Z"
   },
   {
    "duration": 22,
    "start_time": "2023-09-28T10:39:45.033Z"
   },
   {
    "duration": 15,
    "start_time": "2023-09-28T10:40:22.864Z"
   },
   {
    "duration": 8,
    "start_time": "2023-09-28T10:41:00.962Z"
   },
   {
    "duration": 86,
    "start_time": "2023-09-28T10:41:50.015Z"
   },
   {
    "duration": 15,
    "start_time": "2023-09-28T10:45:23.490Z"
   },
   {
    "duration": 8,
    "start_time": "2023-09-28T10:51:21.745Z"
   },
   {
    "duration": 17,
    "start_time": "2023-09-28T10:57:58.368Z"
   },
   {
    "duration": 21,
    "start_time": "2023-09-28T10:59:45.372Z"
   },
   {
    "duration": 21,
    "start_time": "2023-09-28T11:03:10.655Z"
   },
   {
    "duration": 15,
    "start_time": "2023-09-28T11:04:44.561Z"
   },
   {
    "duration": 22,
    "start_time": "2023-09-28T11:07:55.754Z"
   },
   {
    "duration": 33,
    "start_time": "2023-09-28T11:09:01.342Z"
   },
   {
    "duration": 23,
    "start_time": "2023-09-28T11:10:52.770Z"
   },
   {
    "duration": 8,
    "start_time": "2023-09-28T11:48:26.589Z"
   },
   {
    "duration": 8,
    "start_time": "2023-09-28T11:48:37.026Z"
   },
   {
    "duration": 8,
    "start_time": "2023-09-28T11:48:51.320Z"
   },
   {
    "duration": 18,
    "start_time": "2023-09-28T11:48:58.858Z"
   },
   {
    "duration": 5,
    "start_time": "2023-09-28T11:49:00.214Z"
   },
   {
    "duration": 19,
    "start_time": "2023-09-28T11:54:15.717Z"
   },
   {
    "duration": 18,
    "start_time": "2023-09-28T11:55:16.799Z"
   },
   {
    "duration": 25,
    "start_time": "2023-09-28T11:56:25.965Z"
   },
   {
    "duration": 17,
    "start_time": "2023-09-28T11:56:56.843Z"
   },
   {
    "duration": 21,
    "start_time": "2023-09-28T11:57:00.531Z"
   },
   {
    "duration": 21,
    "start_time": "2023-09-28T12:01:08.590Z"
   },
   {
    "duration": 22,
    "start_time": "2023-09-28T12:02:16.994Z"
   },
   {
    "duration": 23,
    "start_time": "2023-09-28T12:02:33.390Z"
   },
   {
    "duration": 25,
    "start_time": "2023-09-28T12:02:59.831Z"
   },
   {
    "duration": 20,
    "start_time": "2023-09-28T12:04:02.528Z"
   },
   {
    "duration": 20,
    "start_time": "2023-09-28T12:04:15.943Z"
   },
   {
    "duration": 19,
    "start_time": "2023-09-28T12:11:55.497Z"
   },
   {
    "duration": 1950,
    "start_time": "2023-09-28T12:16:40.156Z"
   },
   {
    "duration": 2023,
    "start_time": "2023-09-28T12:16:42.487Z"
   },
   {
    "duration": 1696,
    "start_time": "2023-09-28T12:16:44.910Z"
   },
   {
    "duration": 2115,
    "start_time": "2023-09-28T12:17:05.425Z"
   },
   {
    "duration": 1384,
    "start_time": "2023-09-28T12:17:32.906Z"
   },
   {
    "duration": 1648,
    "start_time": "2023-09-28T12:18:12.639Z"
   },
   {
    "duration": 10,
    "start_time": "2023-09-28T12:18:26.320Z"
   },
   {
    "duration": 10,
    "start_time": "2023-09-28T12:18:39.379Z"
   },
   {
    "duration": 1839,
    "start_time": "2023-09-28T12:18:52.288Z"
   },
   {
    "duration": 2492,
    "start_time": "2023-09-28T12:19:07.593Z"
   },
   {
    "duration": 1678,
    "start_time": "2023-09-28T12:20:31.966Z"
   },
   {
    "duration": 52,
    "start_time": "2023-09-28T12:20:46.461Z"
   },
   {
    "duration": 19,
    "start_time": "2023-09-28T12:24:32.588Z"
   },
   {
    "duration": 17,
    "start_time": "2023-09-28T12:24:44.135Z"
   },
   {
    "duration": 18,
    "start_time": "2023-09-28T12:24:54.479Z"
   },
   {
    "duration": 19,
    "start_time": "2023-09-28T12:25:29.317Z"
   },
   {
    "duration": 27,
    "start_time": "2023-09-28T12:25:33.998Z"
   },
   {
    "duration": 74,
    "start_time": "2023-09-28T12:25:55.283Z"
   },
   {
    "duration": 22,
    "start_time": "2023-09-28T12:25:56.272Z"
   },
   {
    "duration": 18,
    "start_time": "2023-09-28T12:25:57.278Z"
   },
   {
    "duration": 11,
    "start_time": "2023-09-28T12:25:59.420Z"
   },
   {
    "duration": 35,
    "start_time": "2023-09-28T12:26:00.490Z"
   },
   {
    "duration": 3,
    "start_time": "2023-09-28T12:26:02.978Z"
   },
   {
    "duration": 8,
    "start_time": "2023-09-28T12:26:04.012Z"
   },
   {
    "duration": 5,
    "start_time": "2023-09-28T12:26:05.627Z"
   },
   {
    "duration": 6,
    "start_time": "2023-09-28T12:26:07.321Z"
   },
   {
    "duration": 5,
    "start_time": "2023-09-28T12:26:08.333Z"
   },
   {
    "duration": 37,
    "start_time": "2023-09-28T12:26:09.942Z"
   },
   {
    "duration": 11,
    "start_time": "2023-09-28T12:26:10.874Z"
   },
   {
    "duration": 4,
    "start_time": "2023-09-28T12:26:12.312Z"
   },
   {
    "duration": 12,
    "start_time": "2023-09-28T12:26:13.739Z"
   },
   {
    "duration": 30,
    "start_time": "2023-09-28T12:26:14.791Z"
   },
   {
    "duration": 22,
    "start_time": "2023-09-28T12:26:15.319Z"
   },
   {
    "duration": 3,
    "start_time": "2023-09-28T12:26:17.716Z"
   },
   {
    "duration": 11,
    "start_time": "2023-09-28T12:26:19.245Z"
   },
   {
    "duration": 7,
    "start_time": "2023-09-28T12:26:20.558Z"
   },
   {
    "duration": 4,
    "start_time": "2023-09-28T12:26:22.672Z"
   },
   {
    "duration": 9,
    "start_time": "2023-09-28T12:26:23.809Z"
   },
   {
    "duration": 5,
    "start_time": "2023-09-28T12:26:26.358Z"
   },
   {
    "duration": 24,
    "start_time": "2023-09-28T12:26:29.231Z"
   },
   {
    "duration": 20,
    "start_time": "2023-09-28T12:26:32.041Z"
   },
   {
    "duration": 20,
    "start_time": "2023-09-28T12:32:45.276Z"
   },
   {
    "duration": 22,
    "start_time": "2023-09-28T12:33:47.624Z"
   },
   {
    "duration": 22,
    "start_time": "2023-09-28T12:34:44.716Z"
   },
   {
    "duration": 20,
    "start_time": "2023-09-28T12:35:02.572Z"
   },
   {
    "duration": 22,
    "start_time": "2023-09-28T12:35:27.382Z"
   },
   {
    "duration": 7,
    "start_time": "2023-09-28T12:35:33.874Z"
   },
   {
    "duration": 22,
    "start_time": "2023-09-28T12:36:35.975Z"
   },
   {
    "duration": 33,
    "start_time": "2023-09-28T12:37:14.603Z"
   },
   {
    "duration": 23,
    "start_time": "2023-09-28T12:37:20.604Z"
   },
   {
    "duration": 1647,
    "start_time": "2023-09-28T12:40:49.386Z"
   },
   {
    "duration": 22,
    "start_time": "2023-09-28T12:41:15.760Z"
   },
   {
    "duration": 135,
    "start_time": "2023-09-28T12:51:08.017Z"
   },
   {
    "duration": 23,
    "start_time": "2023-09-28T12:56:14.741Z"
   },
   {
    "duration": 21,
    "start_time": "2023-09-28T13:24:41.981Z"
   },
   {
    "duration": 78,
    "start_time": "2023-09-28T13:40:32.194Z"
   },
   {
    "duration": 569,
    "start_time": "2023-09-28T13:40:45.060Z"
   },
   {
    "duration": 22,
    "start_time": "2023-09-28T13:40:48.380Z"
   },
   {
    "duration": 18,
    "start_time": "2023-09-28T13:40:52.214Z"
   },
   {
    "duration": 12,
    "start_time": "2023-09-28T13:40:54.934Z"
   },
   {
    "duration": 36,
    "start_time": "2023-09-28T13:40:58.834Z"
   },
   {
    "duration": 4,
    "start_time": "2023-09-28T13:41:01.126Z"
   },
   {
    "duration": 9,
    "start_time": "2023-09-28T13:41:02.352Z"
   },
   {
    "duration": 5,
    "start_time": "2023-09-28T13:41:03.684Z"
   },
   {
    "duration": 7,
    "start_time": "2023-09-28T13:41:04.759Z"
   },
   {
    "duration": 6,
    "start_time": "2023-09-28T13:41:05.849Z"
   },
   {
    "duration": 38,
    "start_time": "2023-09-28T13:41:07.065Z"
   },
   {
    "duration": 12,
    "start_time": "2023-09-28T13:41:07.427Z"
   },
   {
    "duration": 5,
    "start_time": "2023-09-28T13:41:08.123Z"
   },
   {
    "duration": 14,
    "start_time": "2023-09-28T13:41:08.905Z"
   },
   {
    "duration": 22,
    "start_time": "2023-09-28T13:41:09.830Z"
   },
   {
    "duration": 19,
    "start_time": "2023-09-28T13:41:10.244Z"
   },
   {
    "duration": 6,
    "start_time": "2023-09-28T13:41:11.097Z"
   },
   {
    "duration": 12,
    "start_time": "2023-09-28T13:41:11.383Z"
   },
   {
    "duration": 6,
    "start_time": "2023-09-28T13:41:11.984Z"
   },
   {
    "duration": 4,
    "start_time": "2023-09-28T13:41:13.971Z"
   },
   {
    "duration": 9,
    "start_time": "2023-09-28T13:41:14.329Z"
   },
   {
    "duration": 6,
    "start_time": "2023-09-28T13:41:15.864Z"
   },
   {
    "duration": 30,
    "start_time": "2023-09-28T13:41:17.235Z"
   },
   {
    "duration": 22,
    "start_time": "2023-09-28T13:41:19.499Z"
   },
   {
    "duration": 10,
    "start_time": "2023-09-28T13:41:20.309Z"
   },
   {
    "duration": 10,
    "start_time": "2023-09-28T13:41:24.494Z"
   },
   {
    "duration": 17,
    "start_time": "2023-09-28T13:41:25.919Z"
   },
   {
    "duration": 6,
    "start_time": "2023-09-28T13:41:26.371Z"
   },
   {
    "duration": 22,
    "start_time": "2023-09-28T13:41:27.744Z"
   },
   {
    "duration": 9,
    "start_time": "2023-09-28T13:41:35.952Z"
   },
   {
    "duration": 20,
    "start_time": "2023-09-28T13:41:36.767Z"
   },
   {
    "duration": 4,
    "start_time": "2023-09-28T13:41:37.468Z"
   },
   {
    "duration": 23,
    "start_time": "2023-09-28T13:41:37.799Z"
   },
   {
    "duration": 21,
    "start_time": "2023-09-28T13:41:38.590Z"
   },
   {
    "duration": 15,
    "start_time": "2023-09-28T13:42:04.036Z"
   },
   {
    "duration": 15,
    "start_time": "2023-09-28T13:42:18.418Z"
   },
   {
    "duration": 13,
    "start_time": "2023-09-28T13:42:37.016Z"
   },
   {
    "duration": 14,
    "start_time": "2023-09-28T13:42:38.650Z"
   },
   {
    "duration": 1370,
    "start_time": "2023-09-28T13:42:41.144Z"
   },
   {
    "duration": 15,
    "start_time": "2023-09-28T13:42:42.651Z"
   },
   {
    "duration": 475,
    "start_time": "2023-09-28T13:43:02.225Z"
   },
   {
    "duration": 39,
    "start_time": "2023-09-28T13:43:09.856Z"
   },
   {
    "duration": 4,
    "start_time": "2023-09-28T13:43:12.522Z"
   },
   {
    "duration": 15,
    "start_time": "2023-09-28T13:43:14.304Z"
   },
   {
    "duration": 4,
    "start_time": "2023-09-28T13:43:17.690Z"
   },
   {
    "duration": 7,
    "start_time": "2023-09-28T13:43:20.709Z"
   },
   {
    "duration": 37,
    "start_time": "2023-09-28T13:43:25.330Z"
   },
   {
    "duration": 4,
    "start_time": "2023-09-28T13:43:29.657Z"
   },
   {
    "duration": 13,
    "start_time": "2023-09-28T13:43:33.319Z"
   },
   {
    "duration": 19,
    "start_time": "2023-09-28T13:43:35.893Z"
   },
   {
    "duration": 3,
    "start_time": "2023-09-28T13:43:39.359Z"
   },
   {
    "duration": 12,
    "start_time": "2023-09-28T13:43:40.891Z"
   },
   {
    "duration": 6,
    "start_time": "2023-09-28T13:43:43.864Z"
   },
   {
    "duration": 3,
    "start_time": "2023-09-28T13:43:47.415Z"
   },
   {
    "duration": 9,
    "start_time": "2023-09-28T13:43:49.208Z"
   },
   {
    "duration": 28,
    "start_time": "2023-09-28T13:43:52.542Z"
   },
   {
    "duration": 20,
    "start_time": "2023-09-28T13:43:56.769Z"
   },
   {
    "duration": 7,
    "start_time": "2023-09-28T13:43:59.046Z"
   },
   {
    "duration": 8,
    "start_time": "2023-09-28T13:44:03.648Z"
   },
   {
    "duration": 18,
    "start_time": "2023-09-28T13:44:05.591Z"
   },
   {
    "duration": 5,
    "start_time": "2023-09-28T13:44:06.383Z"
   },
   {
    "duration": 23,
    "start_time": "2023-09-28T13:44:09.853Z"
   },
   {
    "duration": 8,
    "start_time": "2023-09-28T13:44:18.273Z"
   },
   {
    "duration": 17,
    "start_time": "2023-09-28T13:44:23.209Z"
   },
   {
    "duration": 5,
    "start_time": "2023-09-28T13:44:23.789Z"
   },
   {
    "duration": 24,
    "start_time": "2023-09-28T13:44:27.007Z"
   },
   {
    "duration": 24,
    "start_time": "2023-09-28T13:44:29.480Z"
   },
   {
    "duration": 98,
    "start_time": "2023-09-28T13:46:16.601Z"
   },
   {
    "duration": 22,
    "start_time": "2023-09-28T13:46:35.240Z"
   },
   {
    "duration": 19,
    "start_time": "2023-09-28T13:46:43.476Z"
   },
   {
    "duration": 22,
    "start_time": "2023-09-28T13:46:57.441Z"
   },
   {
    "duration": 23,
    "start_time": "2023-09-28T13:48:05.864Z"
   },
   {
    "duration": 21,
    "start_time": "2023-09-28T13:48:11.842Z"
   },
   {
    "duration": 24,
    "start_time": "2023-09-28T13:59:06.865Z"
   },
   {
    "duration": 147,
    "start_time": "2023-09-28T14:00:31.215Z"
   },
   {
    "duration": 26,
    "start_time": "2023-09-28T14:03:06.851Z"
   },
   {
    "duration": 52,
    "start_time": "2023-09-28T16:25:02.687Z"
   },
   {
    "duration": 728,
    "start_time": "2023-09-28T16:25:22.444Z"
   },
   {
    "duration": 22,
    "start_time": "2023-09-28T16:25:23.179Z"
   },
   {
    "duration": 17,
    "start_time": "2023-09-28T16:25:23.656Z"
   },
   {
    "duration": 11,
    "start_time": "2023-09-28T16:25:24.321Z"
   },
   {
    "duration": 36,
    "start_time": "2023-09-28T16:25:24.623Z"
   },
   {
    "duration": 4,
    "start_time": "2023-09-28T16:25:25.107Z"
   },
   {
    "duration": 8,
    "start_time": "2023-09-28T16:25:25.431Z"
   },
   {
    "duration": 5,
    "start_time": "2023-09-28T16:25:25.931Z"
   },
   {
    "duration": 7,
    "start_time": "2023-09-28T16:25:26.280Z"
   },
   {
    "duration": 4,
    "start_time": "2023-09-28T16:25:26.599Z"
   },
   {
    "duration": 37,
    "start_time": "2023-09-28T16:25:27.063Z"
   },
   {
    "duration": 11,
    "start_time": "2023-09-28T16:25:27.383Z"
   },
   {
    "duration": 4,
    "start_time": "2023-09-28T16:25:27.875Z"
   },
   {
    "duration": 12,
    "start_time": "2023-09-28T16:25:28.388Z"
   },
   {
    "duration": 20,
    "start_time": "2023-09-28T16:25:28.713Z"
   },
   {
    "duration": 17,
    "start_time": "2023-09-28T16:25:28.875Z"
   },
   {
    "duration": 4,
    "start_time": "2023-09-28T16:25:29.379Z"
   },
   {
    "duration": 12,
    "start_time": "2023-09-28T16:25:29.544Z"
   },
   {
    "duration": 7,
    "start_time": "2023-09-28T16:25:29.894Z"
   },
   {
    "duration": 3,
    "start_time": "2023-09-28T16:25:30.207Z"
   },
   {
    "duration": 10,
    "start_time": "2023-09-28T16:25:30.374Z"
   },
   {
    "duration": 5,
    "start_time": "2023-09-28T16:25:30.872Z"
   },
   {
    "duration": 30,
    "start_time": "2023-09-28T16:25:31.044Z"
   },
   {
    "duration": 1701,
    "start_time": "2023-09-28T16:25:31.933Z"
   },
   {
    "duration": 12,
    "start_time": "2023-09-28T16:25:33.705Z"
   },
   {
    "duration": 25,
    "start_time": "2023-09-28T16:25:34.525Z"
   },
   {
    "duration": 5,
    "start_time": "2023-09-28T16:25:35.106Z"
   },
   {
    "duration": 24,
    "start_time": "2023-09-28T16:25:36.171Z"
   },
   {
    "duration": 21,
    "start_time": "2023-09-28T16:25:38.284Z"
   },
   {
    "duration": 21,
    "start_time": "2023-09-28T16:25:39.303Z"
   },
   {
    "duration": 9,
    "start_time": "2023-09-28T16:25:40.768Z"
   },
   {
    "duration": 20,
    "start_time": "2023-09-28T16:25:41.078Z"
   },
   {
    "duration": 32,
    "start_time": "2023-09-28T16:25:44.744Z"
   },
   {
    "duration": 1669,
    "start_time": "2023-09-28T16:26:09.812Z"
   },
   {
    "duration": 1582,
    "start_time": "2023-09-28T16:26:34.594Z"
   },
   {
    "duration": 512,
    "start_time": "2023-09-28T16:52:30.635Z"
   },
   {
    "duration": 23,
    "start_time": "2023-09-28T16:52:31.161Z"
   },
   {
    "duration": 16,
    "start_time": "2023-09-28T16:52:31.575Z"
   },
   {
    "duration": 13,
    "start_time": "2023-09-28T16:52:32.369Z"
   },
   {
    "duration": 35,
    "start_time": "2023-09-28T16:52:32.775Z"
   },
   {
    "duration": 4,
    "start_time": "2023-09-28T16:52:33.375Z"
   },
   {
    "duration": 12,
    "start_time": "2023-09-28T16:52:33.794Z"
   },
   {
    "duration": 6,
    "start_time": "2023-09-28T16:52:34.407Z"
   },
   {
    "duration": 7,
    "start_time": "2023-09-28T16:52:35.559Z"
   },
   {
    "duration": 5,
    "start_time": "2023-09-28T16:52:36.162Z"
   },
   {
    "duration": 35,
    "start_time": "2023-09-28T16:52:37.106Z"
   },
   {
    "duration": 10,
    "start_time": "2023-09-28T16:52:37.692Z"
   },
   {
    "duration": 3,
    "start_time": "2023-09-28T16:52:38.974Z"
   },
   {
    "duration": 12,
    "start_time": "2023-09-28T16:52:41.433Z"
   },
   {
    "duration": 19,
    "start_time": "2023-09-28T16:52:42.072Z"
   },
   {
    "duration": 19,
    "start_time": "2023-09-28T16:52:42.278Z"
   },
   {
    "duration": 3,
    "start_time": "2023-09-28T16:52:42.914Z"
   },
   {
    "duration": 11,
    "start_time": "2023-09-28T16:52:43.131Z"
   },
   {
    "duration": 6,
    "start_time": "2023-09-28T16:52:43.555Z"
   },
   {
    "duration": 3,
    "start_time": "2023-09-28T16:52:43.988Z"
   },
   {
    "duration": 9,
    "start_time": "2023-09-28T16:52:44.179Z"
   },
   {
    "duration": 4,
    "start_time": "2023-09-28T16:52:45.288Z"
   },
   {
    "duration": 23,
    "start_time": "2023-09-28T16:52:45.467Z"
   },
   {
    "duration": 45,
    "start_time": "2023-09-28T16:52:45.943Z"
   },
   {
    "duration": 7,
    "start_time": "2023-09-28T16:52:46.935Z"
   },
   {
    "duration": 16,
    "start_time": "2023-09-28T16:52:47.330Z"
   },
   {
    "duration": 4,
    "start_time": "2023-09-28T16:52:47.531Z"
   },
   {
    "duration": 22,
    "start_time": "2023-09-28T16:52:47.699Z"
   },
   {
    "duration": 20,
    "start_time": "2023-09-28T16:52:49.795Z"
   },
   {
    "duration": 20,
    "start_time": "2023-09-28T16:52:50.159Z"
   },
   {
    "duration": 9,
    "start_time": "2023-09-28T16:52:51.192Z"
   },
   {
    "duration": 16,
    "start_time": "2023-09-28T16:52:51.400Z"
   },
   {
    "duration": 22,
    "start_time": "2023-09-28T16:52:51.618Z"
   },
   {
    "duration": 1643,
    "start_time": "2023-09-28T16:54:19.387Z"
   },
   {
    "duration": 1497,
    "start_time": "2023-09-28T16:54:26.560Z"
   },
   {
    "duration": 35,
    "start_time": "2023-09-28T16:54:35.979Z"
   },
   {
    "duration": 20,
    "start_time": "2023-09-28T16:55:42.483Z"
   },
   {
    "duration": 0,
    "start_time": "2023-09-28T16:59:20.042Z"
   },
   {
    "duration": 8,
    "start_time": "2023-09-28T16:59:30.468Z"
   },
   {
    "duration": 1914,
    "start_time": "2023-09-28T16:59:33.375Z"
   },
   {
    "duration": 15,
    "start_time": "2023-09-28T17:01:39.818Z"
   },
   {
    "duration": 14,
    "start_time": "2023-09-28T17:01:49.352Z"
   },
   {
    "duration": 16,
    "start_time": "2023-09-28T17:02:05.041Z"
   },
   {
    "duration": 987,
    "start_time": "2023-09-28T17:02:34.951Z"
   },
   {
    "duration": 19,
    "start_time": "2023-09-28T17:02:58.754Z"
   },
   {
    "duration": 1605,
    "start_time": "2023-09-28T17:04:48.479Z"
   },
   {
    "duration": 44,
    "start_time": "2023-09-28T17:05:14.903Z"
   },
   {
    "duration": 65,
    "start_time": "2023-09-28T17:06:02.040Z"
   },
   {
    "duration": 65,
    "start_time": "2023-09-28T17:06:09.337Z"
   },
   {
    "duration": 15,
    "start_time": "2023-09-28T17:06:44.660Z"
   },
   {
    "duration": 14,
    "start_time": "2023-09-28T17:06:55.531Z"
   },
   {
    "duration": 14,
    "start_time": "2023-09-28T17:07:04.722Z"
   },
   {
    "duration": 14,
    "start_time": "2023-09-28T17:07:31.527Z"
   },
   {
    "duration": 36,
    "start_time": "2023-09-28T17:07:42.384Z"
   },
   {
    "duration": 22,
    "start_time": "2023-09-28T17:20:34.882Z"
   },
   {
    "duration": 22,
    "start_time": "2023-09-28T17:20:40.039Z"
   },
   {
    "duration": 21,
    "start_time": "2023-09-28T17:20:47.490Z"
   },
   {
    "duration": 21,
    "start_time": "2023-09-28T17:20:51.569Z"
   },
   {
    "duration": 41,
    "start_time": "2023-09-28T17:20:57.854Z"
   },
   {
    "duration": 22,
    "start_time": "2023-09-28T17:21:42.741Z"
   },
   {
    "duration": 21,
    "start_time": "2023-09-28T17:21:45.246Z"
   },
   {
    "duration": 32,
    "start_time": "2023-09-28T17:21:47.290Z"
   },
   {
    "duration": 22,
    "start_time": "2023-09-28T17:23:17.723Z"
   },
   {
    "duration": 22,
    "start_time": "2023-09-28T17:23:27.400Z"
   },
   {
    "duration": 25,
    "start_time": "2023-09-28T17:25:16.278Z"
   },
   {
    "duration": 9,
    "start_time": "2023-09-28T17:33:12.868Z"
   },
   {
    "duration": 22,
    "start_time": "2023-09-28T17:33:51.065Z"
   },
   {
    "duration": 120,
    "start_time": "2023-09-28T17:40:08.109Z"
   },
   {
    "duration": 46,
    "start_time": "2023-09-28T17:54:18.882Z"
   },
   {
    "duration": 25,
    "start_time": "2023-09-28T17:54:46.697Z"
   },
   {
    "duration": 21,
    "start_time": "2023-09-28T18:02:22.466Z"
   },
   {
    "duration": 4,
    "start_time": "2023-09-28T18:02:35.953Z"
   },
   {
    "duration": 21,
    "start_time": "2023-09-28T18:02:56.474Z"
   },
   {
    "duration": 30,
    "start_time": "2023-09-28T18:03:10.168Z"
   },
   {
    "duration": 508,
    "start_time": "2023-09-28T20:38:51.079Z"
   },
   {
    "duration": 23,
    "start_time": "2023-09-28T20:38:51.589Z"
   },
   {
    "duration": 41,
    "start_time": "2023-09-28T20:38:51.614Z"
   },
   {
    "duration": 15,
    "start_time": "2023-09-28T20:38:51.658Z"
   },
   {
    "duration": 62,
    "start_time": "2023-09-28T20:38:51.675Z"
   },
   {
    "duration": 4,
    "start_time": "2023-09-28T20:38:51.739Z"
   },
   {
    "duration": 52,
    "start_time": "2023-09-28T20:38:51.745Z"
   },
   {
    "duration": 42,
    "start_time": "2023-09-28T20:38:51.799Z"
   },
   {
    "duration": 43,
    "start_time": "2023-09-28T20:38:51.843Z"
   },
   {
    "duration": 11,
    "start_time": "2023-09-28T20:38:51.889Z"
   },
   {
    "duration": 59,
    "start_time": "2023-09-28T20:38:51.902Z"
   },
   {
    "duration": 24,
    "start_time": "2023-09-28T20:38:51.963Z"
   },
   {
    "duration": 17,
    "start_time": "2023-09-28T20:38:51.989Z"
   },
   {
    "duration": 34,
    "start_time": "2023-09-28T20:38:52.008Z"
   },
   {
    "duration": 49,
    "start_time": "2023-09-28T20:38:52.044Z"
   },
   {
    "duration": 17,
    "start_time": "2023-09-28T20:38:52.094Z"
   },
   {
    "duration": 3,
    "start_time": "2023-09-28T20:38:52.113Z"
   },
   {
    "duration": 37,
    "start_time": "2023-09-28T20:38:52.118Z"
   },
   {
    "duration": 23,
    "start_time": "2023-09-28T20:38:52.157Z"
   },
   {
    "duration": 12,
    "start_time": "2023-09-28T20:38:52.182Z"
   },
   {
    "duration": 27,
    "start_time": "2023-09-28T20:38:52.196Z"
   },
   {
    "duration": 85,
    "start_time": "2023-09-28T20:38:52.225Z"
   },
   {
    "duration": 103,
    "start_time": "2023-09-28T20:38:52.311Z"
   },
   {
    "duration": 115,
    "start_time": "2023-09-28T20:38:52.416Z"
   },
   {
    "duration": 199,
    "start_time": "2023-09-28T20:38:52.533Z"
   },
   {
    "duration": 72,
    "start_time": "2023-09-28T20:38:52.734Z"
   },
   {
    "duration": 52,
    "start_time": "2023-09-28T20:38:52.807Z"
   },
   {
    "duration": 32,
    "start_time": "2023-09-28T20:38:52.862Z"
   },
   {
    "duration": 48,
    "start_time": "2023-09-28T20:38:52.896Z"
   },
   {
    "duration": 97,
    "start_time": "2023-09-28T20:38:52.945Z"
   },
   {
    "duration": 21,
    "start_time": "2023-09-28T20:38:53.044Z"
   },
   {
    "duration": 22,
    "start_time": "2023-09-28T20:38:53.067Z"
   },
   {
    "duration": 50,
    "start_time": "2023-09-28T20:38:53.091Z"
   },
   {
    "duration": 7,
    "start_time": "2023-09-28T20:38:53.143Z"
   },
   {
    "duration": 18,
    "start_time": "2023-09-28T20:38:53.151Z"
   },
   {
    "duration": 24,
    "start_time": "2023-09-28T20:38:53.170Z"
   },
   {
    "duration": 51,
    "start_time": "2023-09-28T20:38:53.195Z"
   },
   {
    "duration": 22,
    "start_time": "2023-09-28T20:38:53.248Z"
   },
   {
    "duration": 105,
    "start_time": "2023-09-29T04:42:44.031Z"
   },
   {
    "duration": 46,
    "start_time": "2023-09-29T04:42:51.087Z"
   },
   {
    "duration": 726,
    "start_time": "2023-09-29T04:43:08.571Z"
   },
   {
    "duration": 36,
    "start_time": "2023-09-29T04:43:18.346Z"
   },
   {
    "duration": 4,
    "start_time": "2023-09-29T04:43:20.547Z"
   },
   {
    "duration": 12,
    "start_time": "2023-09-29T04:43:22.175Z"
   },
   {
    "duration": 5,
    "start_time": "2023-09-29T04:43:25.269Z"
   },
   {
    "duration": 8,
    "start_time": "2023-09-29T04:43:27.626Z"
   },
   {
    "duration": 4,
    "start_time": "2023-09-29T04:43:29.451Z"
   },
   {
    "duration": 35,
    "start_time": "2023-09-29T04:43:32.106Z"
   },
   {
    "duration": 4,
    "start_time": "2023-09-29T04:43:35.982Z"
   },
   {
    "duration": 14,
    "start_time": "2023-09-29T04:43:38.097Z"
   },
   {
    "duration": 20,
    "start_time": "2023-09-29T04:43:40.681Z"
   },
   {
    "duration": 4,
    "start_time": "2023-09-29T04:43:44.194Z"
   },
   {
    "duration": 10,
    "start_time": "2023-09-29T04:43:45.547Z"
   },
   {
    "duration": 3,
    "start_time": "2023-09-29T04:43:49.852Z"
   },
   {
    "duration": 9,
    "start_time": "2023-09-29T04:43:51.251Z"
   },
   {
    "duration": 27,
    "start_time": "2023-09-29T04:43:54.235Z"
   },
   {
    "duration": 1422,
    "start_time": "2023-09-29T04:44:02.043Z"
   },
   {
    "duration": 38,
    "start_time": "2023-09-29T04:44:58.311Z"
   },
   {
    "duration": 21,
    "start_time": "2023-09-29T04:45:11.174Z"
   },
   {
    "duration": 23,
    "start_time": "2023-09-29T04:45:47.415Z"
   },
   {
    "duration": 19,
    "start_time": "2023-09-29T04:46:40.589Z"
   },
   {
    "duration": 23,
    "start_time": "2023-09-29T04:46:47.726Z"
   },
   {
    "duration": 23,
    "start_time": "2023-09-29T04:47:37.611Z"
   },
   {
    "duration": 0,
    "start_time": "2023-09-29T04:52:32.938Z"
   },
   {
    "duration": 1662,
    "start_time": "2023-09-29T04:52:39.139Z"
   },
   {
    "duration": 18,
    "start_time": "2023-09-29T04:52:49.666Z"
   },
   {
    "duration": 25,
    "start_time": "2023-09-29T04:53:01.031Z"
   },
   {
    "duration": 83,
    "start_time": "2023-09-29T05:09:55.437Z"
   },
   {
    "duration": 1097,
    "start_time": "2023-10-07T04:21:05.370Z"
   },
   {
    "duration": 31,
    "start_time": "2023-10-07T04:21:09.088Z"
   },
   {
    "duration": 18,
    "start_time": "2023-10-07T04:21:13.377Z"
   },
   {
    "duration": 11,
    "start_time": "2023-10-07T04:21:16.486Z"
   },
   {
    "duration": 41,
    "start_time": "2023-10-07T04:21:19.437Z"
   },
   {
    "duration": 4,
    "start_time": "2023-10-07T04:21:21.647Z"
   },
   {
    "duration": 16,
    "start_time": "2023-10-07T04:21:23.501Z"
   },
   {
    "duration": 5,
    "start_time": "2023-10-07T04:21:25.773Z"
   },
   {
    "duration": 17,
    "start_time": "2023-10-07T04:21:28.597Z"
   },
   {
    "duration": 5,
    "start_time": "2023-10-07T04:21:30.418Z"
   },
   {
    "duration": 47,
    "start_time": "2023-10-07T04:21:32.697Z"
   },
   {
    "duration": 20,
    "start_time": "2023-10-07T04:21:34.630Z"
   },
   {
    "duration": 4,
    "start_time": "2023-10-07T04:21:38.245Z"
   },
   {
    "duration": 16,
    "start_time": "2023-10-07T04:21:40.717Z"
   },
   {
    "duration": 21,
    "start_time": "2023-10-07T04:21:41.827Z"
   },
   {
    "duration": 17,
    "start_time": "2023-10-07T04:21:43.250Z"
   },
   {
    "duration": 4,
    "start_time": "2023-10-07T04:21:45.963Z"
   },
   {
    "duration": 13,
    "start_time": "2023-10-07T04:21:47.313Z"
   },
   {
    "duration": 6,
    "start_time": "2023-10-07T04:21:49.340Z"
   },
   {
    "duration": 4,
    "start_time": "2023-10-07T04:21:53.069Z"
   },
   {
    "duration": 9,
    "start_time": "2023-10-07T04:21:53.653Z"
   },
   {
    "duration": 4,
    "start_time": "2023-10-07T04:21:55.428Z"
   },
   {
    "duration": 26,
    "start_time": "2023-10-07T04:21:55.952Z"
   },
   {
    "duration": 9,
    "start_time": "2023-10-07T04:21:58.188Z"
   },
   {
    "duration": 16,
    "start_time": "2023-10-07T04:21:58.482Z"
   },
   {
    "duration": 5,
    "start_time": "2023-10-07T04:21:58.654Z"
   },
   {
    "duration": 38,
    "start_time": "2023-10-07T04:21:58.797Z"
   },
   {
    "duration": 22,
    "start_time": "2023-10-07T04:21:59.643Z"
   },
   {
    "duration": 9,
    "start_time": "2023-10-07T04:22:00.379Z"
   },
   {
    "duration": 17,
    "start_time": "2023-10-07T04:22:00.535Z"
   },
   {
    "duration": 32,
    "start_time": "2023-10-07T04:22:00.685Z"
   },
   {
    "duration": 65,
    "start_time": "2023-10-07T04:22:51.716Z"
   },
   {
    "duration": 11,
    "start_time": "2023-10-07T04:27:44.648Z"
   },
   {
    "duration": 657,
    "start_time": "2023-10-07T04:29:48.925Z"
   },
   {
    "duration": 99,
    "start_time": "2023-10-07T04:34:02.233Z"
   },
   {
    "duration": 106,
    "start_time": "2023-10-07T04:34:17.171Z"
   },
   {
    "duration": 934,
    "start_time": "2024-02-04T20:08:17.152Z"
   },
   {
    "duration": 24,
    "start_time": "2024-02-04T20:08:18.088Z"
   },
   {
    "duration": 16,
    "start_time": "2024-02-04T20:08:18.113Z"
   },
   {
    "duration": 17,
    "start_time": "2024-02-04T20:08:18.130Z"
   },
   {
    "duration": 53,
    "start_time": "2024-02-04T20:08:18.149Z"
   },
   {
    "duration": 4,
    "start_time": "2024-02-04T20:08:18.203Z"
   },
   {
    "duration": 13,
    "start_time": "2024-02-04T20:08:18.209Z"
   },
   {
    "duration": 8,
    "start_time": "2024-02-04T20:08:18.224Z"
   },
   {
    "duration": 27,
    "start_time": "2024-02-04T20:08:18.234Z"
   },
   {
    "duration": 8,
    "start_time": "2024-02-04T20:08:18.263Z"
   },
   {
    "duration": 43,
    "start_time": "2024-02-04T20:08:18.272Z"
   },
   {
    "duration": 9,
    "start_time": "2024-02-04T20:08:18.317Z"
   },
   {
    "duration": 15,
    "start_time": "2024-02-04T20:08:18.327Z"
   },
   {
    "duration": 51,
    "start_time": "2024-02-04T20:08:18.344Z"
   },
   {
    "duration": 41,
    "start_time": "2024-02-04T20:08:18.396Z"
   },
   {
    "duration": 18,
    "start_time": "2024-02-04T20:08:18.438Z"
   },
   {
    "duration": 8,
    "start_time": "2024-02-04T20:08:18.457Z"
   },
   {
    "duration": 23,
    "start_time": "2024-02-04T20:08:18.467Z"
   },
   {
    "duration": 7,
    "start_time": "2024-02-04T20:08:18.491Z"
   },
   {
    "duration": 31,
    "start_time": "2024-02-04T20:08:18.500Z"
   },
   {
    "duration": 15,
    "start_time": "2024-02-04T20:08:18.532Z"
   },
   {
    "duration": 7,
    "start_time": "2024-02-04T20:08:18.548Z"
   },
   {
    "duration": 35,
    "start_time": "2024-02-04T20:08:18.556Z"
   },
   {
    "duration": 7,
    "start_time": "2024-02-04T20:08:18.592Z"
   },
   {
    "duration": 16,
    "start_time": "2024-02-04T20:08:18.600Z"
   },
   {
    "duration": 6,
    "start_time": "2024-02-04T20:08:18.617Z"
   },
   {
    "duration": 61,
    "start_time": "2024-02-04T20:08:18.624Z"
   },
   {
    "duration": 25,
    "start_time": "2024-02-04T20:08:18.687Z"
   },
   {
    "duration": 7,
    "start_time": "2024-02-04T20:08:18.714Z"
   },
   {
    "duration": 41,
    "start_time": "2024-02-04T20:08:18.722Z"
   },
   {
    "duration": 37,
    "start_time": "2024-02-04T20:08:18.764Z"
   },
   {
    "duration": 79,
    "start_time": "2024-02-04T20:08:18.803Z"
   }
  ],
  "colab": {
   "provenance": []
  },
  "kernelspec": {
   "display_name": "Python 3 (ipykernel)",
   "language": "python",
   "name": "python3"
  },
  "language_info": {
   "codemirror_mode": {
    "name": "ipython",
    "version": 3
   },
   "file_extension": ".py",
   "mimetype": "text/x-python",
   "name": "python",
   "nbconvert_exporter": "python",
   "pygments_lexer": "ipython3",
   "version": "3.9.5"
  },
  "toc": {
   "base_numbering": 1,
   "nav_menu": {},
   "number_sections": true,
   "sideBar": true,
   "skip_h1_title": true,
   "title_cell": "Table of Contents",
   "title_sidebar": "Contents",
   "toc_cell": false,
   "toc_position": {},
   "toc_section_display": true,
   "toc_window_display": false
  }
 },
 "nbformat": 4,
 "nbformat_minor": 5
}
